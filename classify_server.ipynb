{
 "cells": [
  {
   "cell_type": "markdown",
   "metadata": {},
   "source": []
  },
  {
   "cell_type": "code",
   "execution_count": 1,
   "metadata": {
    "collapsed": true
   },
   "outputs": [],
   "source": [
    "from sklearn.externals import joblib"
   ]
  },
  {
   "cell_type": "code",
   "execution_count": 2,
   "metadata": {
    "collapsed": false
   },
   "outputs": [],
   "source": [
    "\n",
    "clf = joblib.load('classify.model')\n",
    "cate_dict = joblib.load('cate_dict.dat')\n",
    "vectorizer = joblib.load('vectorizer.dat')\n"
   ]
  },
  {
   "cell_type": "code",
   "execution_count": 3,
   "metadata": {
    "collapsed": false
   },
   "outputs": [
    {
     "data": {
      "text/plain": [
       "['n_classify.model',\n",
       " 'n_classify.model_01.npy',\n",
       " 'n_classify.model_02.npy',\n",
       " 'n_classify.model_03.npy']"
      ]
     },
     "execution_count": 3,
     "metadata": {},
     "output_type": "execute_result"
    }
   ],
   "source": [
    "joblib.dump(clf,'n_classify.model')"
   ]
  },
  {
   "cell_type": "code",
   "execution_count": 4,
   "metadata": {
    "collapsed": false
   },
   "outputs": [
    {
     "data": {
      "text/plain": [
       "['n_vectorizer.dat']"
      ]
     },
     "execution_count": 4,
     "metadata": {},
     "output_type": "execute_result"
    }
   ],
   "source": [
    "joblib.dump(cate_dict,'n_cate_dict.dat')\n",
    "joblib.dump(vectorizer,'n_vectorizer.dat')"
   ]
  },
  {
   "cell_type": "code",
   "execution_count": 5,
   "metadata": {
    "collapsed": false
   },
   "outputs": [],
   "source": [
    "cate_id_name_dict = dict(map(lambda t:(t[1],t[0]),cate_dict.items()))"
   ]
  },
  {
   "cell_type": "code",
   "execution_count": 6,
   "metadata": {
    "collapsed": false
   },
   "outputs": [
    {
     "name": "stdout",
     "output_type": "stream",
     "text": [
      "패션의류;아동의류;한복\n"
     ]
    }
   ],
   "source": [
    "pred = clf.predict(vectorizer.transform(['[신한카드5%할인][서우한복] 아동한복 여자아동 금나래 (분홍)']))[0]\n",
    "print (cate_id_name_dict[pred])"
   ]
  },
  {
   "cell_type": "code",
   "execution_count": 7,
   "metadata": {
    "collapsed": true
   },
   "outputs": [],
   "source": [
    "import MeCab\n",
    "\n",
    "m = MeCab.Tagger('-d /usr/lib/mecab/dic/mecab-ko-dic')"
   ]
  },
  {
   "cell_type": "code",
   "execution_count": null,
   "metadata": {
    "collapsed": true
   },
   "outputs": [],
   "source": [
    "def parsing_str(_str):\n",
    "    ary = []\n",
    "    parsed = m.parse(_str)\n",
    "    words = parsed.split('\\n')\n",
    "    for word in words[:-2]:\n",
    "        ary.append(word.split('\\t')[0])\n",
    "        \n",
    "    cvted_str = ' '.join(ary)\n",
    "    return cvted_str"
   ]
  },
  {
   "cell_type": "code",
   "execution_count": null,
   "metadata": {
    "collapsed": false
   },
   "outputs": [
    {
     "name": "stderr",
     "output_type": "stream",
     "text": [
      "Bottle v0.12.9 server starting up (using WSGIRefServer())...\n",
      "Listening on http://0.0.0.0:8887/\n",
      "Hit Ctrl-C to quit.\n",
      "\n",
      "10.0.2.2 - - [24/Aug/2016 10:47:35] \"GET /classify?name=%EC%9D%B8%ED%85%94CPU%EC%BD%94%EC%96%B4%20i3-4%EC%84%B8%EB%8C%80%20%ED%95%98%EC%8A%A4%EC%9B%B0%20%EB%A6%AC%ED%94%84%EB%A0%88%EC%8B%9C%204160(3.6GHz/INTEL)&img=http://shopping.phinf.naver.net/main_7975500/7975500771.jpg HTTP/1.1\" 200 62\n",
      "10.0.2.2 - - [24/Aug/2016 10:47:35] \"GET /classify?name=[4%%EC%A6%89%EC%8B%9C%ED%95%A0%EC%9D%B8%EC%BF%A0%ED%8F%B0]%EC%9D%B8%ED%85%94%20intel%20%EC%BD%94%EC%96%B44%EC%84%B8%EB%8C%80%20%ED%95%98%EC%8A%A4%EC%9B%B0%20i3-4160&img=http://shopping.phinf.naver.net/main_8350292/8350292853.jpg HTTP/1.1\" 200 62\n",
      "10.0.2.2 - - [24/Aug/2016 10:47:35] \"GET /classify?name=[%ED%95%B4%EC%99%B8][%EA%B5%AC%EB%A7%A4%EB%8C%80%ED%96%89][B00MMVIFZM]%20Voltage%20References%203.3V%20Prec%20Micropwr%20LDO%20Low%20VRef%20(5%20pieces)&img=http://shopping.phinf.naver.net/main_8266191/8266191804.jpg HTTP/1.1\" 200 72\n",
      "10.0.2.2 - - [24/Aug/2016 10:47:35] \"GET /classify?name=[%ED%95%B4%EC%99%B8][%EA%B5%AC%EB%A7%A4%EB%8C%80%ED%96%89][B00AZVJIEI]%20AD7524LNZ&img=http://shopping.phinf.naver.net/main_8266272/8266272594.jpg HTTP/1.1\" 200 72\n",
      "10.0.2.2 - - [24/Aug/2016 10:47:35] \"GET /classify?name=[%EC%A0%95%ED%92%88]%20%EB%8B%88%EC%BD%98%20DSLR%20D800E%20Body+%EB%A7%A8%ED%94%84%EB%A1%9C%ED%86%A0%20MKBFRA4-BH%20%EC%82%BC%EA%B0%81%EB%8C%80%20+%EC%9D%B8%ED%99%94%EA%B6%8C+%EC%9B%B9%ED%95%98%EB%93%9C&img=http://shopping.phinf.naver.net/main_8303716/8303716371.jpg HTTP/1.1\" 200 116\n",
      "10.0.2.2 - - [24/Aug/2016 10:47:35] \"GET /classify?name=[%EC%BA%90%EB%85%BC%EC%BD%94%EB%A6%AC%EC%95%84%EC%A0%95%ED%92%88]%20Canon%20EOS%2070D%2018-55%20IS%20II%20STM+%203355%EA%B0%80%EB%B0%A9%20+%20SDHC%208GB+UV%ED%95%84%ED%84%B0+%EB%A6%AC%EB%8D%94%EA%B8%B0+%ED%81%AC%EB%A6%AC%EB%84%88SET+%EC%95%A1%EC%A0%95%ED%95%84%EB%A6%84+%EC%9C%B5+%EC%A6%90%EA%B8%B0%EA%B8%B0%EC%B1%85%EC%9E%90+%EA%B7%B8%EC%99%B8%EC%82%AC%EC%9D%80%ED%92%88&img=http://shopping.phinf.naver.net/main_8064286/8064286604.jpg HTTP/1.1\" 200 116\n",
      "10.0.2.2 - - [24/Aug/2016 10:47:35] \"GET /classify?name=%EC%9E%90%EC%9D%B4%EB%A1%9C%EC%BB%B4%20%EC%9E%90%EC%9D%B4%EB%B7%B0%20XV120PCI-BT%204%EC%B1%84%EB%84%90&img=http://shopping.phinf.naver.net/main_4105281/4105281894.20120211193211.jpg HTTP/1.1\" 200 90\n",
      "10.0.2.2 - - [24/Aug/2016 10:47:35] \"GET /classify?name=%EC%94%A8%EC%95%A4%EB%B9%84%ED%85%8D%20BDS1212&img=http://shopping.phinf.naver.net/main_4055288/4055288344.20120211202930.jpg HTTP/1.1\" 200 90\n",
      "10.0.2.2 - - [24/Aug/2016 10:47:35] \"GET /classify?name=(D)%EC%99%B8%EC%9E%A5%ED%95%98%EB%93%9C%201TB%20(6.4CM(2.5%ED%98%95)%EC%9E%90%EA%B0%9C%EC%97%90%EB%94%94%EC%85%98/%EC%84%A0%EC%9C%A0%EB%8F%84)%20[PCD10184]&img=http://shopping.phinf.naver.net/main_8274693/8274693624.jpg HTTP/1.1\" 200 115\n",
      "10.0.2.2 - - [24/Aug/2016 10:47:35] \"GET /classify?name=[PCD9114]%20%ED%95%98%EB%93%9C%20%EB%8F%84%ED%82%B9%20%EC%8A%A4%ED%85%8C%EC%9D%B4%EC%85%98%20(3500ES/eSATA%20USB2.0%206.4cm/8.9cm/%203.5%EC%9D%B8%EC%B9%98%ED%98%95%202.5%EC%9D%B8%EC%B9%98%ED%98%95/S-ATA%20%ED%95%98%EB%93%9C%20USB2.0%20%20%20eSATA/%ED%86%B5%EC%95%8C%EB%A3%A8%EB%AF%B8%EB%8A%84)&img=http://shopping.phinf.naver.net/main_8277891/8277891703.jpg HTTP/1.1\" 200 115\n",
      "10.0.2.2 - - [24/Aug/2016 10:47:35] \"GET /classify?name=Seagate%206TB%20Surveillance%20HDD%20Rescue%20ST6000VX0011&img=http://shopping.phinf.naver.net/main_8256190/8256190893.jpg HTTP/1.1\" 200 72\n",
      "10.0.2.2 - - [24/Aug/2016 10:47:35] \"GET /classify?name=%EC%94%A8%EA%B2%8C%EC%9D%B4%ED%8A%B8%20NAS%20%20%20%EC%84%9C%EB%B2%84%EC%9A%A9%203.5%ED%98%95%20HDD%20%EC%BB%A8%EC%8A%A4%ED%85%94%EB%A0%88%EC%9D%B4%EC%85%98%20ES.3%20SAS%202TB%20/%20128MB%20/%207200RPM%20(ST2000NM0023)&img=http://shopping.phinf.naver.net/main_7527224/7527224909.jpg HTTP/1.1\" 200 72\n",
      "10.0.2.2 - - [24/Aug/2016 10:47:35] \"GET /classify?name=[KT]SM-G906K[%EB%B2%88%ED%98%B8%EC%9D%B4%EB%8F%99][%EA%B0%A4%EB%9F%AD%EC%8B%9CS5%20LTE-A][28%EC%9A%94%EA%B8%88%EC%A0%9C%EC%9D%B4%EC%83%81][%EA%B0%80%EC%9E%85%EB%B9%84/%EC%9C%A0%EC%8B%AC%20%ED%9B%84%EB%82%A9][%ED%95%A0%EB%B6%80%EA%B8%88%20%EC%9A%94%EA%B8%88%EC%A0%9C%EB%B3%84%20%EC%83%81%EC%9D%B4][24%EA%B0%9C%EC%9B%94][[%EA%B8%B0%EC%A1%B4%EC%82%AC%EC%9A%A9%ED%8F%B0%20%EC%B5%9C%EA%B3%A0%EA%B0%80%EB%A7%A4%EC%9E%85]]&img=http://shopping.phinf.naver.net/main_8059750/8059750341.jpg HTTP/1.1\" 200 68\n",
      "10.0.2.2 - - [24/Aug/2016 10:47:35] \"GET /classify?name=[KT%EB%B2%88%ED%98%B8%EC%9D%B4%EB%8F%99]%EC%82%BC%EC%84%B1%EA%B0%A4%EB%9F%AD%EC%8B%9C%EB%85%B8%ED%8A%B84%20S-LTE[SM-N916K][%EC%88%9C%EC%95%A177%EC%9A%94%EA%B8%88%EC%A0%9C][%EA%B0%80%EC%9E%85%EB%B9%84%EB%B6%84%EB%82%A9][%EC%9C%A0%EC%8B%AC%EB%B9%84%ED%9B%84%EB%82%A9][%EB%B6%80%EA%B0%80%EC%84%9C%EB%B9%84%EC%8A%A4%EC%97%86%EC%9D%8C][%EC%84%A0%EB%B0%B0%EC%86%A1%ED%9B%84%EA%B0%9C[%EB%B6%80%EA%B0%80%EC%84%9C%EB%B9%84%EC%8A%A4%EC%97%86%EC%9D%8C/%EC%84%A0%EB%B0%B0%EC%86%A1%20%ED%9B%84%EA%B0%9C%ED%86%B5]&img=http://shopping.phinf.naver.net/main_8337492/8337492479.jpg HTTP/1.1\" 200 65\n",
      "10.0.2.2 - - [24/Aug/2016 10:47:35] \"GET /classify?name=[%EB%AA%A8%EB%A6%AC%EC%BC%80%EC%9D%B4%EB%B8%94]%20[M07321]%20%EB%84%B7%EB%A9%94%EC%9D%B4%ED%8A%B8(Netmate)%20CAT5%20KVM%20%EC%8A%A4%EC%9C%84%EC%B9%98%20USB%20Dongle%20[DGU-01]&img=http://shopping.phinf.naver.net/main_7310686/7310686046.jpg HTTP/1.1\" 200 102\n",
      "10.0.2.2 - - [24/Aug/2016 10:47:35] \"GET /classify?name=5%EB%A7%8C%EC%9B%90%EC%9D%B4%EC%83%81%20%EB%AC%B4%EB%A3%8C%EB%B0%B0%EC%86%A1NETMATE(%EB%84%B7%EB%A9%94%EC%9D%B4%ED%8A%B8)%20CAT5%20KVM%20%EC%8A%A4%EC%9C%84%EC%B9%98%20USB%20Dongle%20DGU-01&img=http://shopping.phinf.naver.net/main_6551925/6551925452.jpg HTTP/1.1\" 200 102\n",
      "10.0.2.2 - - [24/Aug/2016 10:47:35] \"GET /classify?name=[6%%EC%A6%89%EC%8B%9C%ED%95%A0%EC%9D%B8%EC%BF%A0%ED%8F%B0][PCD]CVP-050%20PS/2%205M%20(%2015%20HDB(M)15%20HDB(M)%20/%20MD6M&img=http://shopping.phinf.naver.net/main_8255216/8255216396.jpg HTTP/1.1\" 200 102\n",
      "10.0.2.2 - - [24/Aug/2016 10:47:35] \"GET /classify?name=[6%%EC%A6%89%EC%8B%9C%ED%95%A0%EC%9D%B8%EC%BF%A0%ED%8F%B0]KSC-104UC%20USB%20%EC%BD%98%EC%86%94.%204PCsPS2.%20USB.%201920x1440.%201.8M&img=http://shopping.phinf.naver.net/main_8283883/8283883590.jpg HTTP/1.1\" 200 98\n",
      "10.0.2.2 - - [24/Aug/2016 10:47:35] \"GET /classify?name=[%EC%8B%A0%EB%8F%84%EB%A7%A4%EC%9C%A0%ED%86%B5%20%ED%94%8C%EB%9F%AC%EC%8A%A4%EB%AA%B0]HDR-XR160/HDR-XR260/DCR-SX45%20%EC%86%8C%EB%8B%88%20%ED%95%B8%EB%94%94%EC%BA%A0%EC%BD%94%EB%8D%94&img=http://shopping.phinf.naver.net/main_7492922/7492922253.jpg HTTP/1.1\" 200 134\n",
      "10.0.2.2 - - [24/Aug/2016 10:47:35] \"GET /classify?name=MATIN%20%EC%95%A1%EC%A0%95%EB%B3%B4%ED%98%B8%EC%BB%A4%EB%B2%84%20%EC%BA%90%EB%85%BC%20EOS-50D%EC%A0%84%EC%9A%A9%203.0%EC%9D%B8%EC%B9%98&img=http://shopping.phinf.naver.net/main_5398753/5398753127.20130424121118.jpg HTTP/1.1\" 200 134\n",
      "10.0.2.2 - - [24/Aug/2016 10:47:35] \"GET /classify?name=[5%%EC%A6%89%EC%8B%9C%ED%95%A0%EC%9D%B8%EC%BF%A0%ED%8F%B0]%20LGTVG%20%20%EC%B4%88%EA%B3%A0%EC%86%8D%EC%9D%B8%ED%84%B0%EB%84%B7%20%EB%A7%8C%EC%A1%B1%EC%B5%9C%EA%B3%A0&img=http://shopping.phinf.naver.net/main_8280579/8280579747.jpg HTTP/1.1\" 200 68\n",
      "10.0.2.2 - - [24/Aug/2016 10:47:35] \"GET /classify?name=SKT%20%EA%B8%B0%EA%B8%B0%EB%B3%80%EA%B2%BD%20LG%20G%ED%94%8C%EB%A0%89%EC%8A%A42%20%20LG-F510S&img=http://shopping.phinf.naver.net/main_8277834/8277834557.jpg HTTP/1.1\" 200 66\n",
      "10.0.2.2 - - [24/Aug/2016 10:47:35] \"GET /classify?name=[%ED%95%B4%EC%99%B8]360%20Degree%20Rotating%20Mount%20Buckle%20Quick%20Assembling%20Adapter%20Buckle%20for%20Gopro%20Hero%204%203+%20/%203%20/%202%20SJ4&img=http://shopping.phinf.naver.net/main_8275517/8275517457.jpg HTTP/1.1\" 200 95\n",
      "10.0.2.2 - - [24/Aug/2016 10:47:35] \"GET /classify?name=[%ED%95%B4%EC%99%B8]Gopro%20hero%20Elastic%20Adjustable%20Head%20Strap%20Mount%20with%20anti-slide%20glue%20like%20original%20for%20GoPro%20HD%20H&img=http://shopping.phinf.naver.net/main_8275517/8275517802.jpg HTTP/1.1\" 200 95\n",
      "10.0.2.2 - - [24/Aug/2016 10:47:35] \"GET /classify?name=%EB%A6%AC%EB%AA%A8%EC%BB%A8%20%ED%8C%8C%EC%9D%B8%EB%8D%94%20-%20%EC%8A%A4%EB%A7%88%ED%8A%B8%20%ED%8F%B0%EC%9C%BC%EB%A1%9C%20%EB%A6%AC%EB%AA%A8%EC%BB%A8%20%EC%B0%BE%EA%B8%B0&img=http://shopping.phinf.naver.net/main_8283487/8283487990.jpg HTTP/1.1\" 200 101\n",
      "10.0.2.2 - - [24/Aug/2016 10:47:35] \"GET /classify?name=[5%%EC%A6%89%EC%8B%9C%ED%95%A0%EC%9D%B8%EC%BF%A0%ED%8F%B0](P1j)%ED%8F%B0%EC%A4%84/%EC%82%AC%EA%B0%81%EB%AC%B4%EB%8A%AC%EA%B3%B0%EB%8F%8C%EC%9D%B4(10%EA%B0%9C1Set)&img=http://shopping.phinf.naver.net/main_8282196/8282196438.jpg HTTP/1.1\" 200 86\n",
      "10.0.2.2 - - [24/Aug/2016 10:47:35] \"GET /classify?name=%EA%B0%A4%EB%9F%AD%EC%8B%9CS4%20%EA%B0%95%ED%99%94%EC%9C%A0%EB%A6%AC%ED%95%84%EB%A6%84&img=http://shopping.phinf.naver.net/main_8272882/8272882147.jpg HTTP/1.1\" 200 67\n",
      "10.0.2.2 - - [24/Aug/2016 10:47:35] \"GET /classify?name=%EC%8A%A4%EB%A7%88%ED%8A%B8%ED%8F%B0%20%EC%95%94%EB%B0%B4%EB%93%9C%20%EB%B0%98%EC%82%AC%EC%B2%B4%EC%B2%98%EB%A6%AC(%EC%82%AC%EC%9D%B4%EC%A6%88%EC%84%A0%ED%83%9D)[%EC%A2%8B%EC%9D%80%EC%A0%9C%ED%92%88%20%EC%A0%95%EC%84%B1%EB%B0%B0%EC%86%A1]&img=http://shopping.phinf.naver.net/main_8280159/8280159389.jpg HTTP/1.1\" 200 68\n",
      "10.0.2.2 - - [24/Aug/2016 10:47:35] \"GET /classify?name=[CJ%EC%95%8C%EB%9C%B0%ED%8F%B0/%EC%B4%88%ED%8A%B9%EA%B0%80%EB%AA%A8%EC%9D%8C][%EA%B3%B5%EC%A7%9C%ED%8F%B4%EB%8D%94%ED%8F%B0%20%EC%82%BC%EC%84%B1%20%EB%AF%B8%EB%8B%88%EB%A9%80%ED%8F%B4%EB%8D%94(SHW-A300K)][%EC%B5%9C%EC%8B%A0LTE][%EA%B0%A4%EB%9F%AD%EC%8B%9C%EB%85%B8%ED%8A%B83%EB%84%A4%EC%98%A4/%EC%98%B5%ED%8B%B0%EB%A8%B8%EC%8A%A4G2/G3%EB%B9%84%ED%8A%B8/%EC%98%B5[[%EA%B3%B5%EC%8B%9D%EB%8C%80%EB%A6%AC%EC%A0%90/%EB%A7%A4%EC%9B%94%EC%9A%94%EA%B8%88%ED%95%A0%EC%9D%B8/%EB%8B%A8%EB%A7%90%ED%95%A0%EC%9D%B8]]&img=http://shopping.phinf.naver.net/main_7880109/7880109642.jpg HTTP/1.1\" 200 67\n",
      "10.0.2.2 - - [24/Aug/2016 10:47:35] \"GET /classify?name=[CJ%ED%97%AC%EB%A1%9C%EB%AA%A8%EB%B0%94%EC%9D%BC%EA%B3%B5%EC%8B%9D%EA%B0%80%EC%9E%85%EC%84%BC%ED%84%B0]%20%EA%B0%A4%EB%9F%AD%EC%8B%9CS3(E210K)/HD%EC%95%84%EB%AA%B0%EB%A0%88%EB%93%9C/%EC%BF%BC%EB%93%9C%EC%BD%94%EC%96%B4/%EA%B0%80%EC%9E%85%EB%B9%84%E7%84%A1/%EC%9C%A0%EC%8B%AC%EB%B9%84%E7%84%A1/%EB%B6%80%EA%B0%80%E7%84%A1/%EC%B6%94%EA%B0%80%E7%84%A1&img=http://shopping.phinf.naver.net/main_7516109/7516109708.jpg HTTP/1.1\" 200 67\n",
      "10.0.2.2 - - [24/Aug/2016 10:47:35] \"GET /classify?name=%EA%B7%BC%ED%98%B8%20%20QNAP%20TS-851-4G%20(%ED%95%98%EB%93%9C%EB%AF%B8%ED%8F%AC%ED%95%A8)&img=http://shopping.phinf.naver.net/main_8403838/8403838841.jpg HTTP/1.1\" 200 72\n",
      "10.0.2.2 - - [24/Aug/2016 10:47:35] \"GET /classify?name=QNAP%20%20TS-851-4G%20(%ED%95%98%EB%93%9C%EB%AF%B8%ED%8F%AC%ED%95%A8)&img=http://shopping.phinf.naver.net/main_8242364/8242364760.jpg HTTP/1.1\" 200 72\n",
      "10.0.2.2 - - [24/Aug/2016 10:47:35] \"GET /classify?name=[%EC%9D%B4%EB%B2%A0%EC%9D%B4%EC%9A%A9](IC)3.5%EC%9D%B8%EC%B9%98%201%EB%B2%A0%EC%9D%B4%20%ED%95%98%EB%93%9C%EB%9E%99/H&img=http://shopping.phinf.naver.net/main_8252158/8252158629.jpg HTTP/1.1\" 200 72\n",
      "10.0.2.2 - - [24/Aug/2016 10:47:35] \"GET /classify?name=%ED%95%9C%EC%84%B1%EC%BB%B4%ED%93%A8%ED%84%B0%20EXN%20COMBO%20USB3.0/%EC%99%B8%EC%9E%A5DVD%EB%A0%88%EC%BD%94%EB%8D%94/%EC%99%B8%EC%9E%A5CD%EB%A1%AC&img=http://shopping.phinf.naver.net/main_8235228/8235228885.jpg HTTP/1.1\" 200 72\n",
      "10.0.2.2 - - [24/Aug/2016 10:47:35] \"GET /classify?name=pc%EB%B0%95%EC%8A%A4%20%EC%8B%A0%EC%84%B8%EA%B3%84%EC%97%90%EB%B0%98%EA%B2%8C%EB%A6%AC%EC%98%A8%20%EC%8B%A0%EC%A7%80%EC%9C%A1%EC%84%B1%EA%B3%84%ED%9A%8D&img=http://shopping.phinf.naver.net/main_8238373/8238373971.jpg HTTP/1.1\" 200 96\n",
      "10.0.2.2 - - [24/Aug/2016 10:47:35] \"GET /classify?name=[%ED%95%B4%EC%99%B8]%20Warner%20Bros%20Interactive%20Entertainment%20UK%20Middle-Ea%20%ED%95%B4%EC%99%B8%20%EC%A0%95%ED%92%88%20%EC%A7%81%EB%B0%B0%EC%86%A1&img=http://shopping.phinf.naver.net/main_8271344/8271344400.jpg HTTP/1.1\" 200 96\n",
      "10.0.2.2 - - [24/Aug/2016 10:47:36] \"GET /classify?name=1300K%20[%EB%89%B4%EC%97%90%EB%B2%84]%20%EA%B9%A8%EB%81%97%ED%95%9C%EA%B3%A0%EA%B0%90%EB%8F%84%EB%A7%88%EC%9D%B4%ED%81%AC%EC%B9%A9%20%EB%85%B9%EC%9D%8C%EC%84%B1%EB%8A%A5%EC%8A%A4%ED%83%A0%EB%93%9C%EB%A7%88%EC%9D%B4%ED%81%ACMIC03KK&img=http://shopping.phinf.naver.net/main_7886386/7886386604.jpg HTTP/1.1\" 200 107\n",
      "10.0.2.2 - - [24/Aug/2016 10:47:36] \"GET /classify?name=[BC%EC%B9%B4%EB%93%9C5%%ED%95%A0%EC%9D%B8][%EB%B0%94%EB%B3%B4%EC%82%AC%EB%9E%91]%EA%B3%A0%EA%B0%90%EB%8F%84%20%EC%8A%A4%ED%83%A0%EB%93%9C%20%EB%A7%88%EC%9D%B4%ED%81%AC%20MICROPHONE&img=http://shopping.phinf.naver.net/main_6156972/6156972439.16.jpg HTTP/1.1\" 200 107\n",
      "10.0.2.2 - - [24/Aug/2016 10:47:36] \"GET /classify?name=5%EB%A7%8C%EC%9B%90%E2%86%91%EA%B5%AC%EB%A7%A4%EC%8B%9C%20%EC%B5%9C%EB%8C%803%EB%A7%8C%EC%9B%90%20%EC%A0%81%EB%A6%BD%EC%9D%91%EB%AA%A8(%E5%BF%85)%EB%B9%88%ED%8B%B0%EC%A7%80%20%EB%8B%A4%EC%9A%A9%EB%8F%84%20%EC%A0%95%EB%A6%AC%ED%95%A8&img=http://shopping.phinf.naver.net/main_8332763/8332763575.jpg HTTP/1.1\" 200 91\n",
      "10.0.2.2 - - [24/Aug/2016 10:47:36] \"GET /classify?name=5%EB%A7%8C%EC%9B%90%E2%86%91%EA%B5%AC%EB%A7%A4%EC%8B%9C%20%EC%B5%9C%EB%8C%803%EB%A7%8C%EC%9B%90%20%EC%A0%81%EB%A6%BD%EC%9D%91%EB%AA%A8(%E5%BF%85)[%ED%81%AC%EB%A0%88%EC%9A%A9]%EB%AC%B4%EB%A3%8C%EB%B0%B0%EC%86%A1%20%EC%95%84%EC%9D%B4%EB%94%94%EC%96%B4%20%EB%8B%A4%EC%9A%A9%EB%8F%84%20%EC%88%98%EB%82%A9%ED%95%A8&img=http://shopping.phinf.naver.net/main_8142652/8142652459.1.jpg HTTP/1.1\" 200 105\n",
      "10.0.2.2 - - [24/Aug/2016 10:47:36] \"GET /classify?name=%EB%B8%8C%EB%A6%AC%EC%B8%A0%20BR-1100V%20Plus&img=http://shopping.phinf.naver.net/main_6319778/6319778737.20120510163331.jpg HTTP/1.1\" 200 107\n",
      "10.0.2.2 - - [24/Aug/2016 10:47:36] \"GET /classify?name=CAMAC%20CMK-680A&img=http://shopping.phinf.naver.net/main_5483057/5483057680.20120211170932.jpg HTTP/1.1\" 200 107\n",
      "10.0.2.2 - - [24/Aug/2016 10:47:36] \"GET /classify?name=[4%%EC%A6%89%EC%8B%9C%ED%95%A0%EC%9D%B8%EC%BF%A0%ED%8F%B0]%EC%9D%B4%EB%85%B8%EC%8B%9C%ED%81%90%EB%A6%AC%ED%8B%B0/%ED%9C%B4%EB%B0%94%EC%9D%B4%EB%A1%A0/SK-AS01/%EC%8B%A4%EC%99%B8%20%EC%84%A0%EB%B0%94%EC%9D%B4%EC%A0%80/CCTV&img=http://shopping.phinf.naver.net/main_8277625/8277625715.jpg HTTP/1.1\" 200 107\n",
      "10.0.2.2 - - [24/Aug/2016 10:47:36] \"GET /classify?name=[%ED%95%B4%EC%99%B8]Case%20LogicCase%20Logic%20Notebook%20Webcam,%20Pink%20(WC501)&img=http://shopping.phinf.naver.net/main_8275759/8275759480.jpg HTTP/1.1\" 200 107\n",
      "10.0.2.2 - - [24/Aug/2016 10:47:36] \"GET /classify?name=[4%%EC%A6%89%EC%8B%9C%ED%95%A0%EC%9D%B8%EC%BF%A0%ED%8F%B0]C%EC%98%A4%EB%94%94%EC%98%A4%EA%B4%91%20%EC%BC%80%EC%9D%B4%EB%B8%94%202%20%20Toslink%20to%20Toslink%203M%20%EC%8A%A4%ED%85%8C%EB%A0%88&img=http://shopping.phinf.naver.net/main_8276190/8276190861.jpg HTTP/1.1\" 200 79\n",
      "10.0.2.2 - - [24/Aug/2016 10:47:36] \"GET /classify?name=[4%%EC%A6%89%EC%8B%9C%ED%95%A0%EC%9D%B8%EC%BF%A0%ED%8F%B0]Mini%20DisplayPort%20to%20VGA%20%EC%BC%80%EC%9D%B4%EB%B8%94%2010M&img=http://shopping.phinf.naver.net/main_8284077/8284077115.jpg HTTP/1.1\" 200 79\n",
      "10.0.2.2 - - [24/Aug/2016 10:47:36] \"GET /classify?name=BRAVOTEC%20V6+%20Black%20USB%203.0&img=http://shopping.phinf.naver.net/main_7185226/7185226645.20131008095655.jpg HTTP/1.1\" 200 79\n",
      "10.0.2.2 - - [24/Aug/2016 10:47:36] \"GET /classify?name=%EC%95%B1%EC%BD%94%20NCORE%20%EB%B0%94%EC%9D%B4%ED%8D%BC%20%ED%97%AC%ED%8D%BC%203.0%20%EB%B8%94%EB%9E%99&img=http://shopping.phinf.naver.net/main_7287355/7287355315.20131122150233.jpg HTTP/1.1\" 200 79\n",
      "10.0.2.2 - - [24/Aug/2016 10:47:36] \"GET /classify?name=%EC%A0%9C%EB%8B%89%EC%8A%A4%20%EA%B2%8C%EC%9D%B4%EB%B0%8D%20%ED%97%A4%EB%93%9C%EC%85%8B%20TESORO%20KUVEN/%EC%A0%84%EC%9A%A9%20%EB%A6%AC%EB%AA%A8%EC%BD%98/%EB%B2%84%EC%B6%94%EC%96%BC%207.1%20%EC%84%9C%EB%9D%BC%EC%9A%B4%EB%93%9C%20%EC%A7%80%EC%9B%90/%EA%B3%A0%EC%84%B1%EB%8A%A5%20%EB%A7%88%EC%9D%B4%ED%81%AC/%EC%99%B8%EB%B6%80%20%EC%86%8C%EC%9D%8C%20%EC%99%84%EB%B2%BD%EC%B0%A8%EB%8B%A8/%EC%97%94%EC%A0%A4,%EB%8D%B0%EB%B9%8C&img=http://shopping.phinf.naver.net/main_8108764/8108764745.jpg HTTP/1.1\" 200 107\n",
      "10.0.2.2 - - [24/Aug/2016 10:47:36] \"GET /classify?name=[TLS]%20%EC%A0%9C%EB%8B%89%EC%8A%A4%20TESORO%20KUVEN%20ANGEL/DEVIL%207.1%20%EC%B1%84%EB%84%90%20%EA%B2%8C%EC%9D%B4%EB%B0%8D/%EA%B2%8C%EC%9E%84%EC%9A%A9%20%ED%97%A4%EB%93%9C%EC%85%8B/2%EA%B0%80%EC%A7%80%EC%83%89%EC%83%81/%EB%B3%BC%EB%A5%A8%EC%BB%A8%ED%8A%B8%EB%A1%A4&img=http://shopping.phinf.naver.net/main_7315076/7315076363.jpg HTTP/1.1\" 200 107\n",
      "10.0.2.2 - - [24/Aug/2016 10:47:36] \"GET /classify?name=[%EC%95%84%ED%8A%B8%EB%B0%95%EC%8A%A4%20POOM/%EB%91%90%20%EB%94%94%EC%9E%90%EC%9D%B8%20%EC%8A%A4%ED%8A%9C%EB%94%94%EC%98%A4]%20%EB%8D%A9%EA%B5%B4%EC%84%A0%EC%A0%95%EB%A6%AC%EA%B8%B0&img=http://shopping.phinf.naver.net/main_8359639/8359639455.jpg HTTP/1.1\" 200 141\n",
      "10.0.2.2 - - [24/Aug/2016 10:47:36] \"GET /classify?name=[%ED%9B%84%EC%B6%94%ED%86%B5(%ED%82%A4%EB%8D%9C%ED%8A%B8,%EC%B7%A8%EB%AF%B8)]%20%ED%9E%90%EB%A7%81%EC%89%B4%EB%93%9C%20%EC%BD%94%EC%9B%90%20G7%20%EC%99%B8%EB%B6%80%EB%B3%B4%ED%98%B8%ED%95%84%EB%A6%84%202%EB%A7%A4(%EC%83%81%ED%8C%90%201%EB%A7%A4/%ED%95%98%ED%8C%90_P014803609&img=http://shopping.phinf.naver.net/main_7576786/7576786997.jpg HTTP/1.1\" 200 104\n",
      "10.0.2.2 - - [24/Aug/2016 10:47:36] \"GET /classify?name=[4%%EC%A6%89%EC%8B%9C%ED%95%A0%EC%9D%B8%EC%BF%A0%ED%8F%B0]%EC%8B%A0%EB%8F%84%EB%A7%A4%EC%9C%A0%ED%86%B5-VGN-UX58%20%EC%86%8C%EB%8B%88%20SONY%20UMPC%20%EC%A0%84%EC%9A%A9%204.5%EC%9D%B8%EC%B9%98%20%EC%95%A1&img=http://shopping.phinf.naver.net/main_8247605/8247605196.jpg HTTP/1.1\" 200 81\n",
      "10.0.2.2 - - [24/Aug/2016 10:47:36] \"GET /classify?name=DC25%20Z1%20%EB%88%84%EB%A6%AC%EC%95%88%20NURIAN%20%ED%95%9C%EB%88%84%EB%A6%AC%EB%B9%84%EC%A6%88%20%EC%A0%84%EC%9A%A9%205%EC%9D%B8%EC%B9%98%20%EC%A0%84%EC%9E%90&img=http://shopping.phinf.naver.net/main_8270238/8270238089.jpg HTTP/1.1\" 200 81\n",
      "10.0.2.2 - - [24/Aug/2016 10:47:36] \"GET /classify?name=[COWON][WESTONE]%20%20(PLENUE1)%20P1%20X%20UMPRO20&img=http://shopping.phinf.naver.net/main_8264827/8264827478.jpg HTTP/1.1\" 200 72\n",
      "10.0.2.2 - - [24/Aug/2016 10:47:36] \"GET /classify?name=%EC%96%91%EB%B0%A9%ED%96%A5%ED%86%B5%EC%97%AD%EA%B8%B0%20%EB%8B%A4%EA%B5%AD%EC%96%B4%ED%86%B5%EC%97%AD/%EB%B2%88%EC%97%AD/16%EA%B0%9C%EA%B5%AD/mp3%EB%9D%BC%EB%94%94%EC%98%A4%20Q19&img=http://shopping.phinf.naver.net/main_8276132/8276132857.jpg HTTP/1.1\" 200 72\n",
      "10.0.2.2 - - [24/Aug/2016 10:47:36] \"GET /classify?name=[4%%EC%A6%89%EC%8B%9C%ED%95%A0%EC%9D%B8%EC%BF%A0%ED%8F%B0][%ED%95%B4%EC%99%B8%EC%A7%81%EB%B0%B0%EC%86%A1]Panasonic%20CF-53JALZY1M%20TB%2053%20I5-3320m%202.60g%204GB%20500GB%20DVDRW%2014in-hd%20Wl%20Bluetooth%20Wi&img=http://shopping.phinf.naver.net/main_8283220/8283220310.jpg HTTP/1.1\" 200 72\n",
      "10.0.2.2 - - [24/Aug/2016 10:47:36] \"GET /classify?name=[4%%EC%A6%89%EC%8B%9C%ED%95%A0%EC%9D%B8%EC%BF%A0%ED%8F%B0][%ED%95%B4%EC%99%B8%EC%A7%81%EB%B0%B0%EC%86%A1]Asus%20ASUS%20VivoBook%2015.6-Inch%20HD%20Touchscreen%20Laptop%20%20Core%20i5/40088342&img=http://shopping.phinf.naver.net/main_8283208/8283208858.jpg HTTP/1.1\" 200 89\n",
      "10.0.2.2 - - [24/Aug/2016 10:47:36] \"GET /classify?name=[SKT%20%EA%B8%B0%EA%B8%B0%EB%B3%80%EA%B2%BD]G3%20Cat.6(LG-F460S)%E2%98%86%EC%A0%84%EA%B5%AD%EB%AF%BC%EB%AC%B4%ED%95%9C100%E2%98%86%ED%95%A0%EB%B6%80%EC%9B%90%EA%B8%88%20512200%E2%98%86%EA%B0%80%EC%9E%85%EB%B9%84%EB%A9%B4%EC%A0%9C%E2%98%86%EC%9C%A0%EC%8B%AC%EB%B9%84%ED%9B%84%EC%B2%AD%EA%B5%AC(9,900%EC%9B%90)%E2%98%86%EC%9C%84%EC%95%BD%EA%B8%88(%EB%82%A8%EC%9D%80%20%ED%95%A0%EB%B6%80%EC%9B%90%EA%B8%88,%EB%B0%9B%EC%9D%80%20%EC%A7%80%EC%9B%90%EA%B8%88,%EC%95%BD%EC%A0%95%ED%95%A0%EC%9D%B8%EA%B8%88)%E2%98%86%EB%B6%80%EA%B0%80%EC%84%9C&img=http://shopping.phinf.naver.net/main_8121397/8121397253.jpg HTTP/1.1\" 200 66\n",
      "10.0.2.2 - - [24/Aug/2016 10:47:36] \"GET /classify?name=[SKT%EA%B8%B0%EA%B8%B0%EB%B3%80%EA%B2%BD]%20[%ED%81%B4%EB%9F%BDT]%20[LG-F460S]%20[G3%20CAT6]%20[%ED%95%A0%EB%B6%80%EC%9B%90%EA%B8%88799,700%EC%9B%90]%20[LTE%ED%94%8C%EB%9F%AC%EC%8A%A4%EC%95%BD%EC%A0%9524%EA%B0%9C%EC%9B%94]%20[%EA%B0%80%EC%9E%85%EB%B9%84%EB%AC%B4%EB%A3%8C/%EC%9C%A0%EC%8B%AC%ED%9B%84%EB%82%A9]%20[%EC%9C%84%EC%95%BD%EA%B8%88%EC%A0%81%EC%9A%A9]%20[%EB%B6%80%EA%B0%80X]%20[%EC%BC%80%EC%9D%B4%EC%8A%A4+%ED%95%84&img=http://shopping.phinf.naver.net/main_8223536/8223536959.jpg HTTP/1.1\" 200 66\n",
      "10.0.2.2 - - [24/Aug/2016 10:47:36] \"GET /classify?name=%EC%83%8C%EB%94%94%EC%8A%A4%ED%81%AC%20Basic%20SSD%20128GB&img=http://shopping.phinf.naver.net/main_6655960/6655960659.20121101151431.jpg HTTP/1.1\" 200 72\n",
      "10.0.2.2 - - [24/Aug/2016 10:47:36] \"GET /classify?name=BIWIN%20SATA%20DOM%20Vertical%20D6214%2016GB&img=http://shopping.phinf.naver.net/main_7016604/7016604975.20140121165222.jpg HTTP/1.1\" 200 90\n",
      "10.0.2.2 - - [24/Aug/2016 10:47:36] \"GET /classify?name=%EC%82%BC%EC%84%B1%EC%A0%84%EC%9E%90%20UN28H4200AF&img=http://shopping.phinf.naver.net/main_7469385/7469385724.20140207150255.jpg HTTP/1.1\" 200 71\n",
      "10.0.2.2 - - [24/Aug/2016 10:47:36] \"GET /classify?name=[4%%EC%A6%89%EC%8B%9C%ED%95%A0%EC%9D%B8%EC%BF%A0%ED%8F%B0][%ED%95%B4%EC%99%B8]LG%EC%A0%84%EC%9E%90%20LG%2065%EC%9D%B8%EC%B9%98%20LEDTV%20%2065LB5200&img=http://shopping.phinf.naver.net/main_8257522/8257522143.jpg HTTP/1.1\" 200 71\n",
      "10.0.2.2 - - [24/Aug/2016 10:47:36] \"GET /classify?name=[PCD]AverMedia%20Live%20Gamer%20HD%20(PCI%20Express%20%EC%BA%A1%EC%B3%90%EC%B9%B4%EB%93%9C/1080p)&img=http://shopping.phinf.naver.net/main_8187832/8187832600.jpg HTTP/1.1\" 200 115\n",
      "10.0.2.2 - - [24/Aug/2016 10:47:36] \"GET /classify?name=[%EB%AC%B4%EB%A6%BC2]%20[%EC%8A%A4%EC%B9%B4%EC%9D%B4%EB%94%94%EC%A7%80%ED%83%88]%20SKYTV%20HD%20YELLOW&img=http://shopping.phinf.naver.net/main_8146825/8146825361.jpg HTTP/1.1\" 200 101\n",
      "10.0.2.2 - - [24/Aug/2016 10:47:36] \"GET /classify?name=[4%%EC%A6%89%EC%8B%9C%ED%95%A0%EC%9D%B8%EC%BF%A0%ED%8F%B0][%EB%B0%94%EB%B3%B4%EC%82%AC%EB%9E%91]%EB%AF%B8%EB%8B%88%EC%8A%A4%EC%9C%99%20Mini%20swing%204G%20USB%EB%A9%94%EB%AA%A8%EB%A6%AC%20%EC%9E%91%EA%B3%A0%20%EA%B0%80%EB%B2%BC%EC%9A%B4%20%EC%8A%A4%EC%9C%99%ED%83%80%EC%9E%85[%EB%AC%B4%EB%A3%8C%EB%B0%B0%EC%86%A1]&img=http://shopping.phinf.naver.net/main_7259091/7259091479.jpg HTTP/1.1\" 200 72\n",
      "10.0.2.2 - - [24/Aug/2016 10:47:36] \"GET /classify?name=1300K%20[%EC%A0%95%EC%95%A0%EC%9D%B4%EB%85%B8%EB%B2%A0%EC%9D%B4%EC%85%98]%20%EC%A0%9C%EC%9D%B4%EB%A9%94%ED%83%80%20JMETA%20%20C3%20%EB%AF%BC%ED%99%94%20%EC%B9%B4%EB%93%9C%ED%98%95USB%20No%2002%20%204GB&img=http://shopping.phinf.naver.net/main_7687189/7687189697.jpg HTTP/1.1\" 200 90\n",
      "10.0.2.2 - - [24/Aug/2016 10:47:36] \"GET /classify?name=[S-MODO.283A]%20NEW%20USB%20%EC%86%90%EB%82%9C%EB%A1%9C%20%ED%9C%B4%EB%8C%80%ED%8F%B0%20%EB%B3%B4%EC%A1%B0%EB%B0%B0%ED%84%B0%EB%A6%AC&img=http://shopping.phinf.naver.net/main_8191109/8191109532.jpg HTTP/1.1\" 200 79\n",
      "10.0.2.2 - - [24/Aug/2016 10:47:36] \"GET /classify?name=[4%%EC%A6%89%EC%8B%9C%ED%95%A0%EC%9D%B8%EC%BF%A0%ED%8F%B0]%EC%BC%80%EC%9D%B4%ED%83%91%EC%95%84%EC%9D%B4%EC%95%A4%ED%8B%B0%20KT-780%20%EA%B2%8C%EC%9D%B4%EB%B0%8D%20%EC%9E%A5%ED%8C%A8%EB%93%9C%20(%EB%B8%94%EB%A3%A8%EB%9D%BC%EC%9D%B8)&img=http://shopping.phinf.naver.net/main_8280746/8280746517.jpg HTTP/1.1\" 200 100\n",
      "10.0.2.2 - - [24/Aug/2016 10:47:36] \"GET /classify?name=[4%%EC%A6%89%EC%8B%9C%ED%95%A0%EC%9D%B8%EC%BF%A0%ED%8F%B0]%EB%8F%99%EC%96%91%EB%A7%A4%EC%A7%81%20GRA-C2062R%2015%EB%85%84%ED%98%95%20%EC%8B%A0%EB%AA%A8%EB%8D%B8%20(%EC%A0%84%ED%99%94%EA%B5%AC%EC%84%BC%EC%84%9C%EC%A0%81%EC%9A%A9)&img=http://shopping.phinf.naver.net/main_8258456/8258456057.jpg HTTP/1.1\" 200 99\n",
      "10.0.2.2 - - [24/Aug/2016 10:47:36] \"GET /classify?name=[4%%EC%A6%89%EC%8B%9C%ED%95%A0%EC%9D%B8%EC%BF%A0%ED%8F%B0]%ED%82%A4%EC%B9%9C%EB%A7%88%EC%8A%A4%ED%84%B0%20B%EC%84%B8%ED%8A%B8%20PKM-F301NC%20(%ED%9B%84%EB%93%9C+3%EA%B5%AC%EA%B0%80%EC%8A%A4%EB%A0%88%EC%9D%B8%EC%A7%80)&img=http://shopping.phinf.naver.net/main_8265491/8265491346.jpg HTTP/1.1\" 200 100\n",
      "10.0.2.2 - - [24/Aug/2016 10:47:36] \"GET /classify?name=%ED%8C%8C%EC%84%B8%EC%BD%94%20%EB%B9%8C%ED%8A%B8%EC%9D%B8%20%EB%A7%88%EC%9A%B4%ED%8B%B4%20%ED%9B%84%EB%93%9C%20PHD-M670ST/%EB%A0%88%EC%9D%B8%EC%A7%80%ED%9B%84%EB%93%9C&img=http://shopping.phinf.naver.net/main_8156805/8156805520.jpg HTTP/1.1\" 200 111\n",
      "10.0.2.2 - - [24/Aug/2016 10:47:36] \"GET /classify?name=[%ED%98%B8%EC%95%BC%EB%8B%B7%EC%BB%B4][%EA%B0%80%EC%8A%A4%EB%A0%88%EC%9D%B8%EC%A7%80]%20%EB%8F%84%EB%A7%A4%ED%8A%B9%EA%B0%80(GKS10649)-%ED%95%AD%EA%B7%A0%20%EB%A0%8C%EC%A7%80%20%ED%9B%84%EB%93%9C%20%ED%95%84%ED%84%B0(1%EB%A7%A4)%20(50cm%C3%9730cm)&img=http://shopping.phinf.naver.net/main_8157329/8157329730.jpg HTTP/1.1\" 200 111\n",
      "10.0.2.2 - - [24/Aug/2016 10:47:36] \"GET /classify?name=%EC%97%98%EC%A7%80%20%EC%82%B4%EA%B7%A0%EC%8A%A4%ED%8B%B0%EB%A8%B8%20%EC%8A%A4%EC%BC%80%EC%9D%BC%ED%95%84%ED%84%B01%EC%9E%A5%E3%85%A3%EA%B0%80%EC%8A%B5%EA%B8%B0%ED%95%84%ED%84%B0&img=http://shopping.phinf.naver.net/main_8219303/8219303006.jpg HTTP/1.1\" 200 87\n",
      "10.0.2.2 - - [24/Aug/2016 10:47:36] \"GET /classify?name=[%ED%95%B4%EC%99%B8]BabyGanics[%EC%95%84%EB%A7%88%EC%A1%B4]BabyGanics%203x%20Concentrated%20Laundry%20Detergent,%20Packaging%20May%20Vary&img=http://shopping.phinf.naver.net/main_8251174/8251174305.jpg HTTP/1.1\" 200 124\n",
      "10.0.2.2 - - [24/Aug/2016 10:47:36] \"GET /classify?name=[%EB%8B%8C%ED%85%90%EB%8F%84%203DSXL%20%ED%8A%B9%EB%B3%84%EA%B5%AC%EC%84%B1]%203DS%20XL+%EC%8B%A0%20%EC%84%B8%EA%B3%84%EC%88%98%EC%9D%98%20%EB%AF%B8%EA%B6%81+%ED%8A%80%EC%96%B4%EB%82%98%EC%99%80%EC%9A%94%20%EB%8F%99%EB%AC%BC%EC%9D%98%20%EC%88%B2+%EC%BC%80%EC%9D%B4%EC%8A%A4+%ED%95%84%EB%A6%84&img=http://shopping.phinf.naver.net/main_8334871/8334871128.jpg HTTP/1.1\" 200 112\n",
      "10.0.2.2 - - [24/Aug/2016 10:47:36] \"GET /classify?name=[%EC%84%B8%EC%9D%B4%EC%BD%94%EB%A9%94%ED%8A%B8%EB%A1%9C%ED%8A%9C%EB%84%88]%20SEIKO%20Metronome%20Tuner%20STH-100%20%20%20STH100%20%EB%A9%94%ED%8A%B8%EB%A1%9C%EB%86%88+%ED%8A%9C%EB%84%88%20%ED%8A%9C%EB%8B%9D%EA%B8%B0%20%EC%A1%B0%EC%9C%A8%EA%B8%B0%20%EA%B8%B0%ED%83%80%ED%8A%9C%EB%84%88&img=http://shopping.phinf.naver.net/main_7805279/7805279635.jpg HTTP/1.1\" 200 130\n",
      "10.0.2.2 - - [24/Aug/2016 10:47:36] \"GET /classify?name=%EC%98%A4%EB%9D%BC%ED%81%B4%20%EB%8D%B0%EC%9D%B4%ED%84%B0%EB%B2%A0%EC%9D%B4%EC%8A%A4%20%EC%8A%A4%ED%85%90%EB%8B%A4%EB%93%9C%20%EC%97%90%EB%94%94%EC%85%98%2011g%20AIX%EC%9A%A9%204%ED%94%84%EB%A1%9C%EC%84%B8%EC%84%9C(%EC%82%AC%EC%9A%A9%EC%9E%90%EB%AC%B4%EC%A0%9C%ED%95%9C)&img=http://shopping.phinf.naver.net/main_8245964/8245964615.jpg HTTP/1.1\" 200 93\n",
      "10.0.2.2 - - [24/Aug/2016 10:47:36] \"GET /classify?name=%EC%98%A4%EB%9D%BC%ED%81%B4%20%EB%8D%B0%EC%9D%B4%ED%84%B0%EB%B2%A0%EC%9D%B4%EC%8A%A4%20%EC%8A%A4%ED%85%90%EB%8B%A4%EB%93%9C%20%EC%97%90%EB%94%94%EC%85%98%20ONE%2011g%20%EC%9C%A0%EB%8B%89%EC%8A%A4%EC%9A%A9%202%ED%94%84%EB%A1%9C%EC%84%B8%EC%84%9C(%EC%82%AC%EC%9A%A9%EC%9E%90%EB%AC%B4%EC%A0%9C%ED%95%9C)&img=http://shopping.phinf.naver.net/main_8245964/8245964552.jpg HTTP/1.1\" 200 93\n",
      "10.0.2.2 - - [24/Aug/2016 10:47:36] \"GET /classify?name=[Aero-Milk]%20%EC%97%90%EC%96%B4%EB%A1%9C%EB%B0%80%ED%81%AC%20%EC%B5%9C%EC%8B%A0%ED%98%95%20%EC%A0%84%EC%9E%90%EB%8F%99%EC%9A%B0%EC%9C%A0%EA%B1%B0%ED%92%88%EA%B8%B0%20MMF-003&img=http://shopping.phinf.naver.net/main_7443264/7443264949.jpg HTTP/1.1\" 200 100\n",
      "10.0.2.2 - - [24/Aug/2016 10:47:36] \"GET /classify?name=[SEVERIN]%EB%8F%85%EC%9D%BC%20%EC%84%B8%EB%B2%84%EB%A6%B0%20%EC%9D%B8%EB%8D%95%EC%85%98%20%EB%B0%80%ED%81%AC%ED%94%84%EB%A1%9C%EB%8D%94%20SM9684%20110%EB%85%84%20%EC%A0%84%ED%86%B5%20%EB%8F%85%EC%9D%BC%EC%86%8C%ED%98%95%20%EA%B0%80%EC%A0%84%EC%A0%9C%ED%92%88&img=http://shopping.phinf.naver.net/main_8206593/8206593027.jpg HTTP/1.1\" 200 109\n",
      "10.0.2.2 - - [24/Aug/2016 10:47:36] \"GET /classify?name=[4%%EC%A6%89%EC%8B%9C%ED%95%A0%EC%9D%B8%EC%BF%A0%ED%8F%B0]%EA%B5%B0%ED%99%94/%EB%8B%A8%EC%B2%B4%EC%9A%A9/%EA%B3%A8%ED%94%84%EC%9E%A5/%EA%B5%90%ED%9A%8C/%ED%9A%8C%EC%82%AC/%EA%B3%B5%EC%9E%A5/%ED%95%99%EA%B5%90/%EA%B8%B0%EC%88%99%EC%82%AC/%EB%8B%A8%EC%B2%B4/%EC%8B%A0%EB%B0%9C%EC%86%8C%EB%8F%85%EA%B8%B0/%EC%8B%A0%EB%B0%9C%EC%86%8C%EB%8F%85%EA%B1%B4%EC%A1%B0%EC%82%B4%EA%B7%A0/12%EC%BC%A4%EB%A0%88/%EC%A0%84%ED%88%AC%ED%99%94%EA%B1%B4%EC%A1%B0%EC%9A%A9&img=http://shopping.phinf.naver.net/main_6575804/6575804724.1.jpg HTTP/1.1\" 200 106\n",
      "10.0.2.2 - - [24/Aug/2016 10:47:36] \"GET /classify?name=[4%%EC%A6%89%EC%8B%9C%ED%95%A0%EC%9D%B8%EC%BF%A0%ED%8F%B0]-[%EC%A0%95%ED%92%88]%EA%B3%B5%EC%9E%A5%EC%A7%81%EC%98%81%20%EC%94%A8%EC%9B%90%20%EC%95%88%EC%A0%84%ED%99%94%20%EC%82%B4%EA%B7%A0%EA%B1%B4%EC%A1%B0%EA%B8%B0%20SDB-2406/24%EC%BC%A4%EB%A0%88%EC%9A%A9/%EC%82%B4%EA%B7%A0%ED%83%88%EC%B7%A8/%EC%97%B4%ED%92%8D%EA%B1%B4%EC%A1%B0/%EC%8B%A0%EB%B0%9C%EC%82%B4%EA%B7%A0%EA%B1%B4%EC%A1%B0%EA%B8%B0/AS%EB%B3%B4%EC%9E%A5&img=http://shopping.phinf.naver.net/main_7122576/7122576705.1.jpg HTTP/1.1\" 200 106\n",
      "10.0.2.2 - - [24/Aug/2016 10:47:36] \"GET /classify?name=%EB%94%94%EC%98%B5%ED%85%8D%20Snake%20HDMI%20to%20DVI%20%EB%B3%80%ED%99%98%EC%BC%80%EC%9D%B4%EB%B8%94%201.5M&img=http://shopping.phinf.naver.net/main_8279960/8279960324.jpg HTTP/1.1\" 200 79\n",
      "10.0.2.2 - - [24/Aug/2016 10:47:36] \"GET /classify?name=%EC%9D%B4%EC%8A%A4%ED%80%98%EC%96%B4%20Duafire%20Duafire%20DuaFire%20Nunchuk%20/%20Nunchuck%20Controller%20for%20Wii%20100%%EC%A0%95%ED%92%88%20%EA%B4%80%EB%B6%80%EA%B0%80%EC%84%B8%ED%8F%AC%ED%95%A8&img=http://shopping.phinf.naver.net/main_8263146/8263146006.jpg HTTP/1.1\" 200 124\n",
      "10.0.2.2 - - [24/Aug/2016 10:47:36] \"GET /classify?name=(PS2)%20MLB%2011%20%EB%8D%94%EC%87%BC%20THE%20SHOW%2011%20%EA%B7%B9%EC%B0%AC%EC%9D%98%20%EC%95%BC%EA%B5%AC%EA%B2%8C%EC%9E%84&img=http://shopping.phinf.naver.net/main_8026300/8026300380.jpg HTTP/1.1\" 200 112\n",
      "10.0.2.2 - - [24/Aug/2016 10:47:36] \"GET /classify?name=[%EC%9E%90%ED%8C%8C%EB%9E%9C%EB%93%9C]%20PS2%20MLB%2011%20%EB%8D%94%EC%87%BC-%EC%A0%95%EC%8B%9D%EB%B0%9C%EB%A7%A4-/PS2mlb11/mlb11%EB%8D%94%EC%87%BC/PS2%EA%B2%8C%EC%9E%84/PS2MLB11THESHOW/%ED%94%8C%EC%8A%A42/%ED%94%8C%EB%A0%88%EC%9D%B4%EC%8A%A4%ED%85%8C%EC%9D%B4%EC%85%98&img=http://shopping.phinf.naver.net/main_6277697/6277697189.jpg HTTP/1.1\" 200 112\n",
      "10.0.2.2 - - [24/Aug/2016 10:47:36] \"GET /classify?name=%EB%91%90%EA%B0%80%EC%A7%80%EA%B8%B0%EB%8A%A5%EC%9D%84%20%ED%95%98%EB%82%98%EB%A1%9C%202%20in1%20%EC%98%88%EC%8A%A4%EB%B7%B0%ED%8B%B0%20YB-330%20%EC%95%84%EC%9D%B4%EB%A1%A0%20%ED%8C%90%EB%A7%A4/%ED%97%A4%EC%96%B4%EC%BB%AC%EB%A7%81/%EA%B3%A0%EB%8D%B0%EA%B8%B0/%EB%A7%A4%EC%A7%81%EA%B8%B0/%ED%97%A4%EC%96%B4%EB%A1%A4/%EC%95%84%EC%9D%B4%EB%A1%B1&img=http://shopping.phinf.naver.net/main_6766569/6766569744.1.jpg HTTP/1.1\" 200 93\n",
      "10.0.2.2 - - [24/Aug/2016 10:47:37] \"GET /classify?name=[%EC%98%88%EC%8A%A4%EB%B7%B0%ED%8B%B0]%20%EB%A7%A4%EC%A7%81%20%EC%BB%AC%EB%A7%81%20%ED%97%A4%EC%96%B4%20%EC%95%84%EC%9D%B4%EB%A1%B1%20YB-386%20%EA%B3%A0%EB%8D%B0%EA%B8%B0%20%EB%A7%A4%EC%A7%81%EA%B8%B0%20%EB%AF%B8%EC%9A%A9%EA%B0%80%EC%A0%84%20%EB%93%9C%EB%9D%BC%EC%9D%B4%EA%B8%B0&img=http://shopping.phinf.naver.net/main_7404406/7404406692.jpg HTTP/1.1\" 200 93\n",
      "10.0.2.2 - - [24/Aug/2016 10:47:37] \"GET /classify?name=[%ED%95%B4%EC%99%B8]%20SAMSUNG%20GALAXY%20S5%20SM-G900H%2016GB%20OEM%20CHARCOAL%20BLACK%20(FACTORY%20UNLOCKED)&img=http://shopping.phinf.naver.net/main_8238708/8238708646.jpg HTTP/1.1\" 200 100\n",
      "10.0.2.2 - - [24/Aug/2016 10:47:37] \"GET /classify?name=[%ED%95%B4%EC%99%B8]%20Samsung%20Samsung%20Galaxy%20S5%20Mini%20G800H%2016GB%20HSPA+%20Unlocked%20GSM%20Quad-Core%20Smartphone%20(Copper%20Gold)&img=http://shopping.phinf.naver.net/main_8259551/8259551088.jpg HTTP/1.1\" 200 100\n",
      "10.0.2.2 - - [24/Aug/2016 10:47:37] \"GET /classify?name=%EC%83%A4%ED%94%84%20KC-940K-W&img=http://shopping.phinf.naver.net/main_7534088/7534088195.20140305101712.jpg HTTP/1.1\" 200 111\n",
      "10.0.2.2 - - [24/Aug/2016 10:47:37] \"GET /classify?name=%EB%94%94%EC%97%90%EC%8A%A4%EC%BC%80%EC%9D%B4%20DLF-01A&img=http://shopping.phinf.naver.net/main_6964459/6964459400.20130620124914.jpg HTTP/1.1\" 200 86\n",
      "10.0.2.2 - - [24/Aug/2016 10:47:37] \"GET /classify?name=%EC%9D%B8%ED%85%94%EB%A6%AC%20piggy%20CD%EC%BC%80%EC%9D%B4%EC%8A%A4&img=http://shopping.phinf.naver.net/main_5422971/5422971947.20120211195939.jpg HTTP/1.1\" 200 72\n",
      "10.0.2.2 - - [24/Aug/2016 10:47:37] \"GET /classify?name=LG%EC%A0%84%EC%9E%90%20DVD-R%2016%EB%B0%B0%EC%86%8D%204.7GB%20%ED%94%84%EB%A6%B0%ED%84%B0%EB%B8%94&img=http://shopping.phinf.naver.net/main_4114654/4114654962.20120211202653.jpg HTTP/1.1\" 200 93\n",
      "10.0.2.2 - - [24/Aug/2016 10:47:37] \"GET /classify?name=ipTIME%20V1024%20%EC%9C%A0%EC%84%A0%EA%B3%B5%EC%9C%A0%EA%B8%B0%20(24%ED%8F%AC%ED%8A%B8/2%EA%B8%B0%EA%B0%80%ED%8F%AC%ED%8A%B8/32Mb%EB%A9%94%EB%AA%A8%EB%A6%AC%EC%A7%80%EC%9B%90/%EC%BC%80%EC%9D%B4%EB%B8%94%20%EC%9E%90%EB%8F%99%EA%B0%90%EC%A7%80)%20[W070967]&img=http://shopping.phinf.naver.net/main_8273688/8273688331.jpg HTTP/1.1\" 200 99\n",
      "10.0.2.2 - - [24/Aug/2016 10:47:37] \"GET /classify?name=ipTIME%20Q604%20%EC%9C%A0%EC%84%A0%EA%B3%B5%EC%9C%A0%EA%B8%B0%20(4%ED%8F%AC%ED%8A%B8/1WAN/100Mbps/16MB%20%EB%A9%94%EB%AA%A8%EB%A6%AC%EC%A7%80%EC%9B%90/%EC%BC%80%EC%9D%B4%EB%B8%94/%EC%9E%90%EB%8F%99%EA%B0%90%EC%A7%80)%20[W070963]&img=http://shopping.phinf.naver.net/main_8276837/8276837326.jpg HTTP/1.1\" 200 99\n",
      "10.0.2.2 - - [24/Aug/2016 10:47:37] \"GET /classify?name=[%EC%A0%95%ED%92%88]%20%EB%A1%B1%ED%8E%91%201.25%EC%9D%B8%EC%B9%98%20%EC%B2%9C%EC%A0%95%EB%AF%B8%EB%9F%AC%20[XP-G]%20%20%20%EC%B2%9C%EC%B2%B4%EB%A7%9D%EC%9B%90%EA%B2%BD%20%ED%94%84%EB%A6%AC%EC%A6%98%20%EB%A0%88%EC%A0%B8%20%EC%B7%A8%EB%AF%B8&img=http://shopping.phinf.naver.net/main_8229515/8229515025.jpg HTTP/1.1\" 200 130\n",
      "10.0.2.2 - - [24/Aug/2016 10:47:37] \"GET /classify?name=[%EC%A0%95%ED%92%88]%20%EB%A1%B1%ED%8E%91%201.25%EC%9D%B8%EC%B9%98%20%EC%B2%9C%EC%A0%95%EB%AF%B8%EB%9F%AC%20[XP-G%20II]%20%20%20%EC%B2%9C%EC%B2%B4%EB%A7%9D%EC%9B%90%EA%B2%BD%20%ED%94%84%EB%A6%AC%EC%A6%98%20%EB%A0%88%EC%A0%B8%20%EC%B7%A8%EB%AF%B8&img=http://shopping.phinf.naver.net/main_8229543/8229543373.jpg HTTP/1.1\" 200 130\n",
      "10.0.2.2 - - [24/Aug/2016 10:47:37] \"GET /classify?name=%ED%95%84%EB%A6%BD%EC%8A%A4%20HX6005/21&img=http://shopping.phinf.naver.net/main_7593364/7593364624.20140331110933.jpg HTTP/1.1\" 200 99\n",
      "10.0.2.2 - - [24/Aug/2016 10:47:37] \"GET /classify?name=%ED%95%84%EB%A6%BD%EC%8A%A4%20%EC%86%8C%EB%8B%89%EC%BC%80%EC%96%B4%20HX-9332&img=http://shopping.phinf.naver.net/main_6206217/6206217867.20130416171548.jpg HTTP/1.1\" 200 99\n",
      "10.0.2.2 - - [24/Aug/2016 10:47:37] \"GET /classify?name=%EC%96%B4%EB%8F%84%EB%B9%84%20Flash%20CS5.5%20Professional&img=http://shopping.phinf.naver.net/main_7415234/7415234092.20140117151833.jpg HTTP/1.1\" 200 124\n",
      "10.0.2.2 - - [24/Aug/2016 10:47:37] \"GET /classify?name=[%ED%95%B4%EC%99%B8][%ED%95%B4%EC%99%B8]ESE%20ES-188%20NTP%20Referenced%20Master%20Clock/Time%20Code%20Generator&img=http://shopping.phinf.naver.net/main_7894746/7894746903.jpg HTTP/1.1\" 200 118\n",
      "10.0.2.2 - - [24/Aug/2016 10:47:37] \"GET /classify?name=[4%%EC%A6%89%EC%8B%9C%ED%95%A0%EC%9D%B8%EC%BF%A0%ED%8F%B0]%20MSI%20%20%EB%9D%BC%EB%8D%B0%EC%98%A8%20R9%20270%20D5%202GB%20%ED%8A%B8%EC%9C%88%20%ED%94%84%EB%A1%9C%EC%A0%B8%204%20%EA%B2%8C%EC%9D%B4%EB%B0%8D%20%EB%8C%80&img=http://shopping.phinf.naver.net/main_8283963/8283963169.jpg HTTP/1.1\" 200 89\n",
      "10.0.2.2 - - [24/Aug/2016 10:47:37] \"GET /classify?name=%EB%A6%AC%EB%93%9C%ED%85%8D%20%20%EC%BF%BC%EB%93%9C%EB%A1%9C%20K4000%20D5%203GB%20ABKO&img=http://shopping.phinf.naver.net/main_8283708/8283708350.jpg HTTP/1.1\" 200 90\n",
      "10.0.2.2 - - [24/Aug/2016 10:47:37] \"GET /classify?name=[%ED%95%B4%EC%99%B8]Verbatim%2097395%20External%20Drives%20-%20USB%203.0%20Store%20n%20Go%20Portable%20Hard%20Drive%201%20TB&img=http://shopping.phinf.naver.net/main_8327865/8327865744.jpg HTTP/1.1\" 200 105\n",
      "10.0.2.2 - - [24/Aug/2016 10:47:37] \"GET /classify?name=Epson%20LX-Tape%20SMP12B&img=http://shopping.phinf.naver.net/main_7928981/7928981235.jpg HTTP/1.1\" 200 107\n",
      "10.0.2.2 - - [24/Aug/2016 10:47:37] \"GET /classify?name=NETmate%20DisplayPort%20to%20HDMI%20%EC%BC%80%EC%9D%B4%EB%B8%94%201.8m_DC-H4_Black%201.8M&img=http://shopping.phinf.naver.net/main_8264894/8264894769.jpg HTTP/1.1\" 200 129\n",
      "10.0.2.2 - - [24/Aug/2016 10:47:37] \"GET /classify?name=NETmate%20USB3.0%20%ED%97%88%EB%B8%8C%20+%20%EA%B8%B0%EA%B0%80%EB%B9%84%ED%8A%B8%20%EB%9E%9C%EC%B9%B4%EB%93%9C%20[PCD0919]&img=http://shopping.phinf.naver.net/main_8332756/8332756438.jpg HTTP/1.1\" 200 129\n",
      "10.0.2.2 - - [24/Aug/2016 10:47:37] \"GET /classify?name=[%ED%9B%84%EC%B6%94%ED%86%B5(%ED%82%A4%EB%8D%9C%ED%8A%B8,%EC%B7%A8%EB%AF%B8)]%20%ED%94%84%EB%A6%AC%EB%AF%B8%EC%97%84%20%ED%81%B4%EB%9E%99%EC%8B%9D%20%EB%9F%B0%EB%8D%98%20%ED%95%B8%EB%93%9C%EB%B0%B1%EC%BC%80%EC%9D%B4%EC%8A%A4(%EC%95%84%EC%9D%B4%ED%8F%B05S/5)%20_P013917213&img=http://shopping.phinf.naver.net/main_7474699/7474699057.jpg HTTP/1.1\" 200 141\n",
      "10.0.2.2 - - [24/Aug/2016 10:47:37] \"GET /classify?name=[NETGEAR]%20%EB%84%B7%EA%B8%B0%EC%96%B4%20PTVU1000%20NETGEAR%20%EB%AC%B4%EC%84%A0%EC%98%81%EC%83%81%EC%A0%84%EC%86%A1%EC%9E%A5%EC%B9%98%20Full%20HD%20TV%201080p%20WiDi%20%EB%8D%B0%EC%8A%A4%ED%81%AC%ED%83%91/%EB%85%B8%ED%8A%B8%EB%B6%81%20(HDMI%20to%20DVI)PC%ED%99%94%EB%A9%B4%EC%9D%84%20%EB%AC%B4%EC%84%A0%EC%9C%BC%EB%A1%9C%20%EB%8C%80%ED%98%95%ED%99%94%EB%A9%B4%EC%9C%BC&img=http://shopping.phinf.naver.net/main_7412835/7412835850.jpg HTTP/1.1\" 200 115\n",
      "10.0.2.2 - - [24/Aug/2016 10:47:37] \"GET /classify?name=NETmate%202%EB%8B%A8%20%EA%B4%80%EC%A0%88%ED%98%95%20%EB%AA%A8%EB%8B%88%ED%84%B0%20%EA%B1%B0%EC%B9%98%EB%8C%80%20NMA-LM10&img=http://shopping.phinf.naver.net/main_7419150/7419150214.jpg HTTP/1.1\" 200 141\n",
      "10.0.2.2 - - [24/Aug/2016 10:47:37] \"GET /classify?name=[NMA-LM10]%20NETmate%202%EB%8B%A8%20%EA%B4%80%EC%A0%88%ED%98%95%20%EB%AA%A8%EB%8B%88%ED%84%B0%20%EA%B1%B0%EC%B9%98%EB%8C%80%20[%EB%AA%A8%EB%8B%88%ED%84%B0%EA%B1%B0%EC%B9%98%EB%8C%80/%EB%AA%A8%EB%8B%88%ED%84%B0%EC%95%94/LCD%EB%AA%A8%EB%8B%88%ED%84%B0%EA%B1%B0%EC%B9%98%EB%8C%80/%EB%B2%BD%EA%B1%B8%EC%9D%B4%EB%AA%A8%EB%8B%88%ED%84%B0/%EB%AA%A8%EB%8B%88%ED%84%B0%EA%B1%B8%EC%9D%B4/LCD%20TV/%EC%B1%85%EC%83%81%ED%98%95%EA%B1%B0%EC%B9%98%EB%8C%80]&img=http://shopping.phinf.naver.net/main_6905372/6905372876.jpg HTTP/1.1\" 200 141\n",
      "10.0.2.2 - - [24/Aug/2016 10:47:37] \"GET /classify?name=[%EC%84%9C%EC%A4%80]24%EC%8B%9C%EA%B0%84%20%EC%9D%BC%EC%A3%BC%EC%9D%BC%20%EA%B2%B8%EC%9A%A9%20%EB%94%94%EC%A7%80%ED%83%88%20%ED%83%80%EC%9E%84%20%EC%8A%A4%EC%9C%84%EC%B9%98%20SJD-C16(%EC%BD%98%EC%84%BC%ED%8A%B8%ED%98%95)&img=http://shopping.phinf.naver.net/main_8281651/8281651436.jpg HTTP/1.1\" 200 117\n",
      "10.0.2.2 - - [24/Aug/2016 10:47:37] \"GET /classify?name=%EB%B0%A9%EC%88%98%EC%A0%9C%EB%AA%A8%EA%B8%B0%20FET-300%20(%EC%A0%9C%EB%AA%A8%EB%A9%B4%EB%8F%84%EA%B8%B0)%20[W142937]&img=http://shopping.phinf.naver.net/main_8273795/8273795892.jpg HTTP/1.1\" 200 117\n",
      "10.0.2.2 - - [24/Aug/2016 10:47:37] \"GET /classify?name=A%EC%84%B8%EC%9D%BC-%20%EC%82%BC%EC%84%B1%20%EC%99%B8%EC%9E%A5%ED%95%98%EB%93%9C%20P3%20Portable(2.5)%202TB&img=http://shopping.phinf.naver.net/main_8263401/8263401077.jpg HTTP/1.1\" 200 105\n",
      "10.0.2.2 - - [24/Aug/2016 10:47:37] \"GET /classify?name=[%ED%95%B4%EC%99%B8][%ED%95%B4%EC%99%B8]%20%20%20%20%20%20%20%20%20%20%20%20%20%20%20%20%20%20%20%20%20%20%20%20%20%20%20%20%20%20Komputerbay%20SD,%20SDHC,%20SDXC,%20MMC%20%EB%B0%8F%20MicroSD,%20MicroSDHC,%20MicroSDXC%20%EB%A9%94%EB%AA%A8&img=http://shopping.phinf.naver.net/main_8271533/8271533224.jpg HTTP/1.1\" 200 105\n",
      "10.0.2.2 - - [24/Aug/2016 10:47:37] \"GET /classify?name=%EB%8C%80%EC%9B%85%20%EC%A0%84%EA%B8%B0%20%EB%A0%88%EC%9D%B8%EC%A7%80(MD210A)&img=http://shopping.phinf.naver.net/main_8283677/8283677954.jpg HTTP/1.1\" 200 105\n",
      "10.0.2.2 - - [24/Aug/2016 10:47:37] \"GET /classify?name=%EC%9C%A0%EB%8B%88%EB%A7%A5%EC%8A%A4%EB%B0%94%EB%B2%A0%ED%81%90%EB%AF%B8%EB%8B%88%EC%A0%84%EA%B8%B0%EC%98%A4%EB%B8%90UMO-1809%20(18L)/%EC%A0%9C%EB%B9%B5%EC%98%A4%EB%B8%90%EA%B8%B0/%EC%A0%9C%EA%B3%BC%EC%98%A4%EB%B8%90%EA%B8%B0/%EB%B9%B5%EB%A7%8C%EB%93%A4%EA%B8%B0/%EC%A0%84%EA%B8%B0%EC%98%A4%EB%B8%90/&img=http://shopping.phinf.naver.net/main_8229143/8229143262.jpg HTTP/1.1\" 200 105\n",
      "10.0.2.2 - - [24/Aug/2016 10:47:37] \"GET /classify?name=[%ED%95%84%EA%B3%A8%EB%93%9C]%202~3%20%20SLA102nA115%20%20%EB%82%A8%EC%84%B1%20%EA%B0%80%EB%94%94%EA%B1%B49%EC%A2%85%EC%A4%91%ED%83%9D%EC%9D%BC&img=http://shopping.phinf.naver.net/main_7915720/7915720022.jpg HTTP/1.1\" 200 80\n",
      "10.0.2.2 - - [24/Aug/2016 10:47:37] \"GET /classify?name=[%ED%95%98%ED%94%84%ED%81%B4%EB%9F%BD/GGIO%20II]%EB%82%B4%EC%B8%84%EB%9F%B4%20%EB%B0%A9%EB%AA%A8%20%EC%9E%90%EC%BC%93%ED%98%95%20%EA%B0%80%EB%94%94%EA%B1%B4_AXIW47511NA&img=http://shopping.phinf.naver.net/main_8015818/8015818901.jpg HTTP/1.1\" 200 80\n",
      "10.0.2.2 - - [24/Aug/2016 10:47:37] \"GET /classify?name=%EC%84%9C%EC%9A%B8%EC%9B%90%EB%B3%B5%20%EC%9B%90%EB%B3%B5(1007-1)LG2015-%EB%82%A8%EC%95%84%EC%9A%A9%EC%84%B8%ED%8A%B8&img=http://shopping.phinf.naver.net/main_8313965/8313965017.jpg HTTP/1.1\" 200 74\n",
      "10.0.2.2 - - [24/Aug/2016 10:47:37] \"GET /classify?name=%EC%84%9C%EC%9A%B8%EC%9B%90%EB%B3%B5%20%EC%9B%90%EB%B3%B5(1004)LG2015-%EB%82%A8%EC%95%84%EC%9A%A9%EC%84%B8%ED%8A%B8&img=http://shopping.phinf.naver.net/main_8313963/8313963759.jpg HTTP/1.1\" 200 74\n",
      "10.0.2.2 - - [24/Aug/2016 10:47:37] \"GET /classify?name=[BC%EC%B9%B4%EB%93%9C5%%ED%95%A0%EC%9D%B8]%EB%B3%B4%EB%8B%8C%20%EC%BD%94%ED%8A%BC%20%EB%82%98%EA%B7%B8%EB%9E%91%20%EB%A1%A4%EB%84%A5%20%EB%B8%8C%EC%9D%B4%EB%84%A5%20%EB%8B%88%ED%8A%B8%20%EB%B8%94%EB%9E%99%20YHVC1044BK5&img=http://shopping.phinf.naver.net/main_7119686/7119686249.15.jpg HTTP/1.1\" 200 93\n",
      "10.0.2.2 - - [24/Aug/2016 10:47:37] \"GET /classify?name=[BC%EC%B9%B4%EB%93%9C5%%ED%95%A0%EC%9D%B8][%ED%95%B4%EC%99%B8%EB%B0%B0%EC%86%A1]%20%EC%95%84%EB%B2%A0%ED%81%AC%EB%A1%AC%EB%B9%84%ED%82%A4%EC%A6%88%20kids%20supersoft%20textured%20cardigan%20navy&img=http://shopping.phinf.naver.net/main_8290844/8290844280.jpg HTTP/1.1\" 200 80\n",
      "10.0.2.2 - - [24/Aug/2016 10:47:37] \"GET /classify?name=[BC%EC%B9%B4%EB%93%9C5%%ED%95%A0%EC%9D%B8][%EB%AA%BD%ED%81%B4%EB%A0%88%EC%96%B4]%EA%B0%90%EB%A7%88%EB%B8%94%EB%A3%A8%20%EB%A1%9C%EA%B3%A0%20%ED%8C%A8%EC%B9%98%20%EB%9D%BC%EC%9D%B4%EB%8B%9D%20%ED%95%98%ED%94%84%20%EC%A7%91%EC%97%85%20PK%20%EC%85%94%EC%B8%A0%20%EA%B7%B8%EB%A0%88%EC%9D%B4%2083111%2080%2082874%20981&img=http://shopping.phinf.naver.net/main_8296173/8296173212.jpg HTTP/1.1\" 200 87\n",
      "10.0.2.2 - - [24/Aug/2016 10:47:37] \"GET /classify?name=[%EB%B8%94%EB%9E%99%EC%95%BC%ED%81%AC%ED%82%A4%EC%A6%88]2014%EB%85%84%20F/W%20%EB%B3%B4%EC%95%84%20%ED%94%8C%EB%A6%AC%EC%8A%A4%20%EC%86%8C%EC%9E%AC%20%EB%8F%99%EC%A0%88%EC%9A%A9%20%EC%9D%B5%EC%8A%A4%ED%8A%B8%EB%A6%BC%20%ED%95%98%ED%94%84%ED%8C%AC%EC%B8%A0%20[BK4XM15%ED%8C%AC%EC%B8%A0]&img=http://shopping.phinf.naver.net/main_8016438/8016438949.1.jpg HTTP/1.1\" 200 80\n",
      "10.0.2.2 - - [24/Aug/2016 10:47:37] \"GET /classify?name=[%EC%8B%A0%ED%95%9C%EC%B9%B4%EB%93%9C5%][%EC%8A%A4%EC%BD%9C%ED%94%BC%EC%98%A4(SCORPIO)][SCORPIO]%EC%86%8D%EA%B1%B4/%EC%BE%8C%EC%A0%81%EB%82%A8%EC%84%B1%EC%9A%A9%EC%8A%A4%ED%8F%AC%EC%B8%A0%EB%9F%B0%EB%8B%9D6%EB%A7%A4%EC%9E%85[SCR2263]=3%EB%A7%A4%EC%9E%852%EC%83%81%EC%9E%90&img=http://shopping.phinf.naver.net/main_7882569/7882569277.1.jpg HTTP/1.1\" 200 123\n",
      "10.0.2.2 - - [24/Aug/2016 10:47:37] \"GET /classify?name=[AK%EB%AA%B0/%ED%8A%B8%EB%9D%BC%EC%9D%B4]%20%20[3784]%20[%ED%8A%B8%EB%9D%BC%EC%9D%B4]%EC%8B%A0%EC%82%AC-%EB%94%94%EB%9F%AD%EC%8A%A4%20T%EC%85%94%EC%B8%A0%20%EB%B0%B1%EC%83%89G%20%EA%B3%A0%ED%80%84%EB%A6%AC%ED%8B%B0%20%EB%B0%98%ED%8C%94%EB%9F%B0%EB%8B%9D/%EC%88%9C%EB%A9%B4100%/%EB%A9%B4%EB%9F%B0%EB%8B%9D/%EA%B8%B0%EB%B3%B8%EB%9F%B0%EB%8B%9D/%EB%B0%98%ED%8C%94%EB%9F%B0%EB%8B%9D&img=http://shopping.phinf.naver.net/main_7062279/7062279949.1.jpg HTTP/1.1\" 200 99\n",
      "10.0.2.2 - - [24/Aug/2016 10:47:37] \"GET /classify?name=[BYC]%20%EB%8D%B0%EC%98%A4%EB%8B%88%EC%95%84%20%EC%97%AC%EC%84%B1%20%EB%9F%B0%EB%8B%9D%201%EC%A2%85%20BYT3256&img=http://shopping.phinf.naver.net/main_8276623/8276623042.jpg HTTP/1.1\" 200 99\n",
      "10.0.2.2 - - [24/Aug/2016 10:47:37] \"GET /classify?name=[BYC]%20%EC%8B%AC%ED%94%8C%20%EC%9C%A0%EC%83%89%20%EC%97%AC%EC%84%B1%20%EB%9F%B0%EB%8B%9D%205%EC%A2%85%20%EC%84%B8%ED%8A%B8%20BYT3413&img=http://shopping.phinf.naver.net/main_8273268/8273268937.jpg HTTP/1.1\" 200 118\n",
      "10.0.2.2 - - [24/Aug/2016 10:47:37] \"GET /classify?name=[TBASE]365%EC%9D%BC%ED%8E%B8%EC%95%88%ED%95%9C%EB%82%B4%EC%9D%98%EB%82%A8%EC%84%B1%EC%9A%A9%ED%8F%B4%EB%A6%AC%EC%8A%A4%ED%8C%90%EB%8B%A8%EC%83%89%EC%95%84%EC%9B%83%EB%B0%B4%EB%93%9C%EC%A6%88%EB%A1%9C%EC%A6%886%EB%A7%A4%EC%9E%85[TBMD41143]&img=http://shopping.phinf.naver.net/main_7856779/7856779722.jpg HTTP/1.1\" 200 123\n",
      "10.0.2.2 - - [24/Aug/2016 10:47:37] \"GET /classify?name=[%EB%A0%88%EB%93%9C%ED%8E%98%EC%9D%B4%EC%8A%A4]%20(%EB%A9%94%EC%89%AC%EC%86%8C%EC%9E%AC%20%ED%86%B5%ED%92%8D%ED%9A%A8%EA%B3%BC)%20%EC%BD%94%EC%BF%A4%20M%20%EB%AF%BC%EC%86%8C%EB%A7%A4%20%EB%9F%B0%EB%8B%9D%20+%20%EC%BD%94%EC%BF%A4%20M%20%EC%82%AC%EA%B0%81%20%ED%8C%AC%ED%8B%B0%202%EC%A2%851%EC%84%B8%ED%8A%B8&img=http://shopping.phinf.naver.net/main_7079132/7079132866.1.jpg HTTP/1.1\" 200 123\n",
      "10.0.2.2 - - [24/Aug/2016 10:47:37] \"GET /classify?name=[%ED%8B%B0%ED%8C%8C%EB%8B%88%EC%8B%9C%EC%8A%A4%ED%84%B0]40%%EC%8B%9C%EC%A6%8C%EC%84%B8%EC%9D%BC%7B%7B2014/%EA%B0%80%EC%9D%84%EC%83%81%ED%92%88%7D%7D%EA%B7%B8%EB%A6%B0%EC%8A%A4%ED%82%A4%EB%8B%88%EB%B0%B4%EB%93%9C%EB%B0%94%EC%A7%80(T44KAP030)&img=http://shopping.phinf.naver.net/main_8001026/8001026342.jpg HTTP/1.1\" 200 80\n",
      "10.0.2.2 - - [24/Aug/2016 10:47:37] \"GET /classify?name=[%ED%8B%B0%ED%8C%8C%EB%8B%88(TIFFANY)]%EB%B8%8C%EB%9D%BC%EC%9A%B4%EA%BD%83%ED%94%84%EB%A6%B0%ED%8A%B8%EB%A0%88%EA%B9%85%EC%8A%A4(T45KAP030-R4)&img=http://shopping.phinf.naver.net/main_8207164/8207164704.1.jpg HTTP/1.1\" 200 80\n",
      "10.0.2.2 - - [24/Aug/2016 10:47:37] \"GET /classify?name=[%ED%8C%AC%EC%BD%A7/%ED%8A%B8%EB%A0%88%EC%9D%B4%EB%8B%9D%ED%8C%AC%EC%B8%A0]%20POPEYES%202TONE%20SETUP%20SKINNY%20TRAINING%20PANTS%20%EC%A0%84%EC%BB%AC%EB%9F%AC%20%ED%83%9D1_PPOHAPT04U&img=http://shopping.phinf.naver.net/main_8303380/8303380713.jpg HTTP/1.1\" 200 86\n",
      "10.0.2.2 - - [24/Aug/2016 10:47:37] \"GET /classify?name=[KB%EA%B5%AD%EB%AF%BC%EC%B9%B4%EB%93%9C%205%%ED%95%A0%EC%9D%B8,%203/14]1300K%20FRESH%20KNIT%20GREEN&img=http://shopping.phinf.naver.net/main_8214567/8214567492.jpg HTTP/1.1\" 200 80\n",
      "10.0.2.2 - - [24/Aug/2016 10:47:37] \"GET /classify?name=LeGEN%20HOMME/%EB%A5%B4%EC%A0%A0%20%ED%95%98%EC%9D%B4%EC%8A%A4%ED%8C%90%20%EC%9D%B4%EC%A4%91%ED%8F%AC%EC%BC%93%20%EC%B9%B4%EA%B3%A0%20%EB%A9%B4%EB%B0%94%EC%A7%80(LNPM017PI)[%EC%8B%9C%EC%A4%91%EA%B0%80:113,600%EC%9B%90,54%%20Sale]&img=http://shopping.phinf.naver.net/main_8081886/8081886398.jpg HTTP/1.1\" 200 117\n",
      "10.0.2.2 - - [24/Aug/2016 10:47:37] \"GET /classify?name=[LeGEN]%20%EB%A5%B4%EC%A0%A0%20%ED%95%98%EC%9D%B4%EC%8A%A4%ED%8C%90%20%EC%9D%B4%EC%A4%91%ED%8F%AC%EC%BC%93%20%EC%B9%B4%EA%B3%A0%20%EB%A9%B4%EB%B0%94%EC%A7%80(LNPM017PI)_P019132638&img=http://shopping.phinf.naver.net/main_8080429/8080429917.1.jpg HTTP/1.1\" 200 74\n",
      "10.0.2.2 - - [24/Aug/2016 10:47:37] \"GET /classify?name=[%EB%B3%B4%EB%A6%AC%EB%B3%B4%EB%A6%AC/%EB%93%9C%EB%A0%88%EC%8A%A4%ED%95%98%EC%9A%B0%EC%8A%A4]%EB%B0%94%EB%B9%84%20%ED%8F%AC%EB%8B%88%ED%85%8C%EC%9D%BC%20%EB%B0%9C%EB%A0%88%EB%B3%B5&img=http://shopping.phinf.naver.net/main_7875529/7875529356.jpg HTTP/1.1\" 200 99\n",
      "10.0.2.2 - - [24/Aug/2016 10:47:37] \"GET /classify?name=[10%%20%EC%A6%89%EC%8B%9C%ED%95%A0%EC%9D%B8][%EC%86%94%EC%A0%9C%EB%8B%88]%205SNR1072%20%EB%81%88%20%EC%B2%B4%ED%81%AC%20%EC%9B%90%ED%94%BC%EC%8A%A4/%20%EC%86%94%EC%A0%9C%EB%8B%88&img=http://shopping.phinf.naver.net/main_8259028/8259028983.jpg HTTP/1.1\" 200 80\n",
      "10.0.2.2 - - [24/Aug/2016 10:47:38] \"GET /classify?name=[%EB%8F%99%EB%82%B4%EC%9D%98]%ED%91%B8%EB%A7%88%EB%82%A8%EC%84%B1%ED%94%8C%EB%9E%98%ED%8B%B0%EB%84%98%ED%9E%88%ED%8A%B8%EC%9B%A8%EC%9D%B4%EB%B8%8C6%EC%A2%85&img=http://image.hnsmall.com/images/goods/496/11215496_g.jpg HTTP/1.1\" 200 111\n",
      "10.0.2.2 - - [24/Aug/2016 10:47:38] \"GET /classify?name=[%EB%8F%99%EB%82%B4%EC%9D%98]%ED%91%B8%EB%A7%88%EB%82%A8%EC%84%B1%ED%94%8C%EB%9E%98%ED%8B%B0%EB%84%98%ED%9E%88%ED%8A%B8%EC%9B%A8%EC%9D%B4%EB%B8%8C6%EC%A2%85&img=http://image.hnsmall.com/images/goods/496/11215496_g.jpg HTTP/1.1\" 200 111\n",
      "10.0.2.2 - - [24/Aug/2016 10:47:38] \"GET /classify?name=[11%%20%EC%A6%89%EC%8B%9C%ED%95%A0%EC%9D%B8](AK%EB%AA%B0)OPEN-BUST%20MID-THIGH%20BODY%20(2325)&img=http://shopping.phinf.naver.net/main_7971216/7971216339.jpg HTTP/1.1\" 200 116\n",
      "10.0.2.2 - - [24/Aug/2016 10:47:38] \"GET /classify?name=[%EC%82%BC%EC%84%B1%EC%B9%B4%EB%93%9C5%%ED%95%A0%EC%9D%B8~15%EC%9D%BC%EA%B9%8C%EC%A7%80][%EC%8A%A4%ED%8C%BD%EC%8A%A4]%20OPEN-BUST%20%20MID-THIGH%20BODY%20(2325)&img=http://shopping.phinf.naver.net/main_7582194/7582194591.jpg HTTP/1.1\" 200 116\n",
      "10.0.2.2 - - [24/Aug/2016 10:47:38] \"GET /classify?name=[AK%20PLAZA][%EB%B9%84%EB%84%88%EC%8A%A4]%EB%B9%84%EB%84%88%EC%8A%A4%20%EB%B8%8C%EC%9D%B4%20%EC%8A%A4%ED%8F%AC%EC%B8%A0%20%EB%B8%8C%EC%9D%B4%ED%95%8F%20%EB%B8%8C%EB%9E%98%EC%A7%80%EC%96%B4%20vbrs102d&img=http://shopping.phinf.naver.net/main_8174682/8174682791.jpg HTTP/1.1\" 200 99\n",
      "10.0.2.2 - - [24/Aug/2016 10:47:38] \"GET /classify?name=[AK%EB%AA%B0/%EB%B9%84%EB%84%88%EC%8A%A4]%20%20[%EB%B9%84%EB%84%88%EC%8A%A4VBR0740%20%EC%89%98%EC%BF%A8%EB%AA%B0%EB%93%9C%EB%B8%8C%EB%9D%BC(C,D%EC%BB%B5)&img=http://shopping.phinf.naver.net/main_8294949/8294949749.jpg HTTP/1.1\" 200 99\n",
      "10.0.2.2 - - [24/Aug/2016 10:47:38] \"GET /classify?name=[%ED%94%84%EB%A6%B0%EC%84%B8%EC%8A%A4%20%ED%83%90%ED%83%90]%20%EB%A0%88%EC%9D%B4%EC%8A%A4%20%ED%99%91%EA%B2%B9%20%EB%B8%8C%EB%9D%BC%20(PBR074J)&img=http://shopping.phinf.naver.net/main_7948420/7948420556.1.jpg HTTP/1.1\" 200 99\n",
      "10.0.2.2 - - [24/Aug/2016 10:47:38] \"GET /classify?name=[%EB%B0%94%EB%94%94%EC%8A%A4%ED%86%A0%EB%A6%AC]%20%EB%B3%BC%EB%A5%A8%EC%97%85%20%EC%97%AC%EC%84%B1%20B%EC%BB%B5%20%EB%B3%B4%EC%A0%95%20%EB%B8%8C%EB%9D%BC%ED%8C%AC%ED%8B%B0(OWS8578)%20(%EA%B8%B0%EC%A1%B4%EA%B0%80:67500%EC%9B%90)&img=http://shopping.phinf.naver.net/main_7845745/7845745882.1.jpg HTTP/1.1\" 200 123\n",
      "10.0.2.2 - - [24/Aug/2016 10:47:38] \"GET /classify?name=%EB%B2%84%EC%BB%A4%EB%A3%A8%20%EB%82%A8%EC%97%AC%EA%B3%B5%EC%9A%A9%2021%EC%88%98%20%EC%8B%B8%EC%9D%B4%EB%A1%9C%20%ED%8F%AC%EC%BC%93%20%EB%9D%BC%EC%9A%B4%EB%93%9C%EB%84%A5%20%ED%8B%B0%EC%85%94%EC%B8%A0(B135TS030P)&img=http://shopping.phinf.naver.net/main_6786503/6786503477.jpg HTTP/1.1\" 200 86\n",
      "10.0.2.2 - - [24/Aug/2016 10:47:38] \"GET /classify?name=%EC%9E%AD%EC%95%A4%EC%A7%88%20[%EB%A1%AF%EB%8D%B0%EB%B0%B1%ED%99%94%EC%A0%90]%EB%82%A8%EC%84%B1%20%EC%B9%B4%EB%AA%A8%EC%A0%84%ED%8C%90%20%ED%94%84%EB%A6%B0%ED%8A%B8%EB%A7%A8%ED%88%AC%EB%A7%A8%2031151TR002&img=http://shopping.phinf.naver.net/main_8316655/8316655693.jpg HTTP/1.1\" 200 86\n",
      "10.0.2.2 - - [24/Aug/2016 10:47:38] \"GET /classify?name=%EC%86%8C%EB%A7%A4%20%EB%A0%88%EC%9D%B4%EC%8A%A4%20%EC%89%AC%ED%8F%B0%EB%B8%94%EB%9D%BC%EC%9A%B0%EC%8A%A4(PSR2LSSC)/%20%EC%88%B2&img=http://shopping.phinf.naver.net/main_8289954/8289954113.jpg HTTP/1.1\" 200 99\n",
      "10.0.2.2 - - [24/Aug/2016 10:47:38] \"GET /classify?name=SOUP(AK%20PLAZA)/SOUP(SR1LS91)%EC%B9%B4%EB%A9%94%EB%9D%BC%20%ED%94%84%EB%A6%B0%ED%8A%B8%20%EB%B8%94%EB%9D%BC%EC%9A%B0%EC%8A%A4&img=http://shopping.phinf.naver.net/main_8286253/8286253495.jpg HTTP/1.1\" 200 99\n",
      "10.0.2.2 - - [24/Aug/2016 10:47:38] \"GET /classify?name=[%ED%95%98%ED%94%84%ED%81%B4%EB%9F%BD/Purplow]%ED%8D%BC%ED%94%8C%EB%A1%9C%EC%9A%B0%EC%8A%A4%EC%99%88%EB%A1%9C%20%EC%85%94%EC%B8%A0(PNFWSH139)&img=http://shopping.phinf.naver.net/main_8038150/8038150166.jpg HTTP/1.1\" 200 87\n",
      "10.0.2.2 - - [24/Aug/2016 10:47:38] \"GET /classify?name=%ED%8D%BC%ED%94%8C%EB%A1%9C%EC%9A%B0%20%EC%8A%A4%EC%99%88%EB%A1%9C%20%EC%85%94%EC%B8%A0(PNFWSH139)/%20%ED%8D%BC%ED%94%8C%EB%A1%9C%EC%9A%B0&img=http://shopping.phinf.naver.net/main_8042144/8042144702.jpg HTTP/1.1\" 200 87\n",
      "10.0.2.2 - - [24/Aug/2016 10:47:38] \"GET /classify?name=[%ED%95%B4%EC%99%B8]%20Cute%20Korean%20Women%20Girl%20High%20Waist%20Embossed%20Mini%20Short%20Pants%20skinny%20Hot%20Pants%20Size%20%EA%B5%AC%EB%A7%A4%EB%8C%80%ED%96%89%20%EC%A7%81%EA%B5%AC&img=http://shopping.phinf.naver.net/main_8318274/8318274213.jpg HTTP/1.1\" 200 124\n",
      "10.0.2.2 - - [24/Aug/2016 10:47:38] \"GET /classify?name=[%ED%95%B4%EC%99%B8]%20flower%20Satin%20bloomers%20bow%20baby%20bloomers%20PP%20Pants%20satin%20ruffle%20christmas%20baby%20bloomers%20TZ-101/?&img=http://shopping.phinf.naver.net/main_7816136/7816136798.1.jpg HTTP/1.1\" 200 124\n",
      "10.0.2.2 - - [24/Aug/2016 10:47:38] \"GET /classify?name=[9%%20%EC%A6%89%EC%8B%9C%ED%95%A0%EC%9D%B8][%EB%B3%B4%EC%8A%88%EC%95%84]%EC%88%99%EB%85%80-%EC%A1%B0%EC%97%AC%EC%A3%BC%EA%B3%A0%20%EC%9E%A1%EC%95%84%EC%A3%BC%EB%8A%94%20p250%EC%86%8D%EB%B0%94%EC%A7%80%20%EB%B8%94%EB%9E%99%20%EA%B7%B8%EB%A0%88%EC%9D%B4%20%EC%A7%84%EA%B7%B8%EB%A0%88%EC%9D%B4%20%ED%83%9D1%EC%A2%85[3138]/%20%EB%B3%B4%EC%8A%88%EC%95%84&img=http://shopping.phinf.naver.net/main_7440709/7440709819.jpg HTTP/1.1\" 200 99\n",
      "10.0.2.2 - - [24/Aug/2016 10:47:38] \"GET /classify?name=[AK%EB%AA%B0/%EB%B3%B4%EC%8A%88%EC%95%84]%20%20[%EB%B3%B4%EC%8A%88%EC%95%84]%EC%88%99%EB%85%80-%EC%A1%B0%EC%97%AC%EC%A3%BC%EA%B3%A0%20%EC%9E%A1%EC%95%84%EC%A3%BC%EB%8A%94%20p250%EC%86%8D%EB%B0%94%EC%A7%80%20%EB%B8%94%EB%9E%99,%EA%B7%B8%EB%A0%88%EC%9D%B4,%EC%A7%84%EA%B7%B8%EB%A0%88%EC%9D%B4%20%ED%83%9D1%EC%A2%85[3138]&img=http://shopping.phinf.naver.net/main_7447915/7447915847.1.jpg HTTP/1.1\" 200 129\n",
      "10.0.2.2 - - [24/Aug/2016 10:47:38] \"GET /classify?name=[%ED%95%B4%EC%99%B8]%EC%8A%A4%EC%BB%A4%ED%8A%B8%20/%20%EC%B9%98%EB%A7%88%20/%20D%EA%B3%B5%EC%A3%BC%20%EB%B0%94%EB%9E%8C%20%EC%8A%88%ED%8D%BC%20%EB%8B%AC%EC%BD%A4%ED%95%9C%20%EC%9A%94%EC%A0%95%20%EB%9E%91%20%EA%B1%B8%EC%AD%89%ED%95%9C%20%EC%A7%93%EC%9D%B4%EB%82%98%20%EA%B3%84%EC%86%8D%ED%95%98%EC%8B%9C%EC%A7%80%20%EC%93%B4%20fleabane%20%EA%B1%B0%EC%A6%88%20%EC%8A%A4%EC%BB%A4%ED%8A%B8%20%EB%8B%A4%EC%84%AF%20%EC%B8%B5%20%EB%B2%A0%EC%9D%BC%20%EC%8A%A4%EC%BB%A4%ED%8A%B8%20%EB%AC%B4%EB%A3%8C%20%EB%B0%B0%EC%86%A1%20Q150%20%EB%A5%BC%20%EC%A0%9C%EA%B8%B0&img=http://shopping.phinf.naver.net/main_8354678/8354678899.jpg HTTP/1.1\" 200 80\n",
      "10.0.2.2 - - [24/Aug/2016 10:47:38] \"GET /classify?name=[%EB%8D%94%EC%9D%B4%EC%81%A8/theebbm]%20%EB%8D%94%EC%9D%B4%EC%81%A8%20%EB%B2%A0%EC%9D%BC%EC%8A%A4%EC%BB%A4%ED%8A%B8(6575078)&img=http://shopping.phinf.naver.net/main_8340064/8340064463.jpg HTTP/1.1\" 200 80\n",
      "10.0.2.2 - - [24/Aug/2016 10:47:38] \"GET /classify?name=[%ED%8C%A8%EC%85%98%ED%94%8C%EB%9F%AC%EC%8A%A4][%EC%9B%94%ED%8A%BC%ED%82%A4%EC%A6%88][%EC%9B%94%ED%8A%BC%ED%82%A4%EC%A6%88]3%EB%8B%A8%EC%BB%AC%EB%9F%AC%ED%8B%B0%EC%85%94%EC%B8%A0_L&img=http://shopping.phinf.naver.net/main_8217449/8217449778.jpg HTTP/1.1\" 200 80\n",
      "10.0.2.2 - - [24/Aug/2016 10:47:38] \"GET /classify?name=%EC%9C%A0%EC%86%94%20PNC01%20%EB%82%A8%EC%95%84%20%EC%8A%A4%ED%82%A4%EC%A0%90%ED%8D%BC%20ULSP44VB01%20OR&img=http://shopping.phinf.naver.net/main_8206279/8206279654.jpg HTTP/1.1\" 200 80\n",
      "10.0.2.2 - - [24/Aug/2016 10:47:38] \"GET /classify?name=%EB%8F%84%ED%8A%B8%20%EC%95%84%EC%82%AC%20%ED%95%98%EC%9D%98%20ANLB4501&img=http://shopping.phinf.naver.net/main_7764039/7764039302.jpg HTTP/1.1\" 200 87\n",
      "10.0.2.2 - - [24/Aug/2016 10:47:38] \"GET /classify?name=[%ED%95%B4%EC%99%B8%EB%B0%B0%EC%86%A1][%EC%97%90%EC%9D%B4%EC%97%90%ED%94%84%EB%89%B4%EC%9A%95/%EB%B9%85%ED%86%A0%EB%A6%AC%EC%95%84%EC%8B%9C%ED%81%AC%EB%A6%BF]%20BEACH%20SEXY%20THE%20PLUNGE%20HALTER%20WHITE&img=http://shopping.phinf.naver.net/main_8359172/8359172535.jpg HTTP/1.1\" 200 99\n",
      "10.0.2.2 - - [24/Aug/2016 10:47:38] \"GET /classify?name=[%ED%83%9C%EC%B0%BDOX%EB%B0%80%EB%9D%BC%EB%85%B8]%EC%96%91%EB%A9%B4%EA%B3%A0%EA%B8%89%EC%88%98%EC%9D%B4%EC%A4%91%EC%A7%81/%EB%82%A8%EC%84%B1%EC%9A%A9%20%EC%88%9C%EB%A9%B4%EB%82%B4%EB%B3%B5%EC%83%81%ED%95%98%201%EC%84%B8%ED%8A%B8[MLXV049312/N1]&img=http://shopping.phinf.naver.net/main_5661781/5661781653.jpg HTTP/1.1\" 200 117\n",
      "10.0.2.2 - - [24/Aug/2016 10:47:38] \"GET /classify?name=[%ED%83%9C%EC%B0%BDOX%EB%B0%80%EB%9D%BC%EB%85%B8]%EC%9B%90%EC%A0%81%EC%99%B8%EC%84%A0%20%EC%84%B8%EB%9D%BC%EB%AF%B9%EC%9B%90%EC%82%AC-%EC%A3%BC%EC%9A%94%EB%B6%80%EC%9C%84%EB%8D%A7%EB%8B%A8%20%EB%82%A8%EC%84%B1%EB%82%B4%EB%B3%B5%20%EC%83%81%ED%95%981%EC%84%B8%ED%8A%B8[MLXV049412/N1]&img=http://shopping.phinf.naver.net/main_5872462/5872462125.jpg HTTP/1.1\" 200 117\n",
      "10.0.2.2 - - [24/Aug/2016 10:47:38] \"GET /classify?name=%EA%B2%A8%EB%93%9C%EB%9E%91%EC%9D%B4%EB%95%80%EC%9E%90%EA%B5%AD%EB%B0%A9%EC%A7%80%EC%8B%9C%ED%8A%B8/%EA%B2%A8%EB%93%9C%EB%9E%91%EC%9D%B4/%EA%B2%A8%EB%93%9C%EB%9E%91%EC%9D%B4%EB%95%80%ED%8C%A8%EB%93%9C/%EA%B2%A8%EB%93%9C%EB%9E%91%EC%9D%B4%ED%8C%A8%EB%93%9C/%EA%B2%A8%EB%93%9C%EB%9E%91%EC%9D%B4%EB%95%80/%EB%95%80/%EA%B2%A8%EB%95%80/%EA%B2%A8%EB%93%9C%EB%9E%91%EC%9D%B4%EB%83%84%EC%83%88/&img=http://shopping.phinf.naver.net/main_8291644/8291644883.jpg HTTP/1.1\" 200 123\n",
      "10.0.2.2 - - [24/Aug/2016 10:47:38] \"GET /classify?name=[5%%20%EC%A6%89%EC%8B%9C%ED%95%A0%EC%9D%B8]%EA%B2%A8%EB%93%9C%EB%9E%91%EC%9D%B4%20%EB%95%80%20%ED%9D%A1%EC%88%98%20%EC%9D%B4%EB%84%88%EC%9B%A8%EC%96%B4(%ED%83%B1%ED%81%AC%ED%83%91)/%EA%B2%A8%EB%93%9C%EB%9E%91%EC%9D%B4%EB%95%80%ED%8C%A8%EB%93%9C%20%EB%B6%80%EC%B0%A9/%EB%95%80%EB%83%84%EC%83%88/%EB%95%80%EC%A0%9C%EA%B1%B0/%EC%95%94%EB%82%B4/%EB%8B%A4%ED%95%9C%EC%A6%9D/%EB%95%80%EC%96%BC%EB%A3%A9%EB%B0%A9%EC%A7%80/%EC%9D%BC%EB%B3%B8%EC%A0%95%ED%92%88&img=http://shopping.phinf.naver.net/main_8265085/8265085861.jpg HTTP/1.1\" 200 123\n",
      "10.0.2.2 - - [24/Aug/2016 10:47:38] \"GET /classify?name=[%EC%82%BC%EC%84%B1%EC%B9%B4%EB%93%9C5%%ED%95%A0%EC%9D%B8~15%EC%9D%BC%EA%B9%8C%EC%A7%80][%EB%AF%B8%EB%8B%88%EB%A9%88]%ED%95%AB%ED%94%BD%EC%8A%A4%20%EC%9E%A5%EC%8B%9D%20%EB%A0%88%EC%9D%B4%EC%96%B4%20%EC%9B%90%ED%94%BC%EC%8A%A4+%EB%84%A4%ED%81%AC%EB%A6%AC%EC%8A%A4%20MOCAWO7010BK&img=http://shopping.phinf.naver.net/main_7949318/7949318681.jpg HTTP/1.1\" 200 80\n",
      "10.0.2.2 - - [24/Aug/2016 10:47:38] \"GET /classify?name=%EC%BD%94%EC%BD%94%EC%95%A0%EB%B9%84%EB%89%B4%20[%EC%98%A4%EA%B0%80%EA%B2%8C/cocoavenue]%EC%A5%AC%EC%8B%9C%ED%95%80%ED%84%B1%EC%9B%90%ED%94%BC%EC%8A%A4,1101&img=http://shopping.phinf.naver.net/main_8341746/8341746194.jpg HTTP/1.1\" 200 86\n",
      "10.0.2.2 - - [24/Aug/2016 10:47:38] \"GET /classify?name=[AK%EB%AA%B0/%EC%95%84%EB%94%94%EB%8B%A4%EC%8A%A4]%20%20%20%EC%95%84%EB%94%94%EB%8B%A4%EC%8A%A4%20%EC%97%94%ED%8A%B8%EB%9D%BC%EB%8B%A4%2014%20%EC%A0%80%EC%A7%80(F50488)%20%EC%98%A4%EB%A0%8C%EC%A7%80%20%EC%B6%95%EA%B5%AC%20%EA%B2%BD%EB%9F%89%20%EB%B0%98%ED%8C%94%ED%8B%B0%20%EB%8B%A8%EC%B2%B4%20%EB%B0%98%ED%8C%94%20%ED%8B%B0%EC%85%94%EC%B8%A0%20%EC%9C%A0%EB%8B%88%ED%8F%BC&img=http://shopping.phinf.naver.net/main_8055850/8055850725.jpg HTTP/1.1\" 200 80\n",
      "10.0.2.2 - - [24/Aug/2016 10:47:38] \"GET /classify?name=[%EB%89%B4%EB%B0%9C%EB%9E%80%EC%8A%A4][%EB%89%B4%EB%B0%9C%EB%9E%80%EC%8A%A4]%20-%2015%20S/S%20%EC%8B%A0%EC%83%81%20TRAIL%20%ED%83%80%EC%9D%B4%ED%8A%B8%20%EB%B0%98%ED%8C%94%ED%8B%B0%20NBNE525031%20BK&img=http://shopping.phinf.naver.net/main_8367197/8367197428.jpg HTTP/1.1\" 200 80\n",
      "10.0.2.2 - - [24/Aug/2016 10:47:38] \"GET /classify?name=%EB%B1%85%EB%B1%85%20%EC%8A%AC%EB%A6%BC%20%EB%A9%B4%20%EB%B3%B8%EB%94%A9%ED%8C%AC%EC%B8%A03%EC%A2%85(%EC%97%AC)&img=http://image.gsshop.com/image/18/23/18236324_L1.jpg HTTP/1.1\" 200 118\n",
      "10.0.2.2 - - [24/Aug/2016 10:47:38] \"GET /classify?name=%EB%B1%85%EB%B1%85%20%EC%8A%AC%EB%A6%BC%20%EB%A9%B4%20%EB%B3%B8%EB%94%A9%ED%8C%AC%EC%B8%A03%EC%A2%85(%EC%97%AC)&img=http://image.gsshop.com/image/18/23/18236324_L1.jpg HTTP/1.1\" 200 118\n",
      "10.0.2.2 - - [24/Aug/2016 10:47:38] \"GET /classify?name=[5%%20%EC%A6%89%EC%8B%9C%ED%95%A0%EC%9D%B8][%ED%8C%A8%EC%85%98%ED%94%8C%EB%9F%AC%EC%8A%A4][%EA%B9%8C%EB%A6%AC%EC%A0%9C]%ED%94%8C%EB%A1%9C%EB%9D%BC%EC%97%AC%EC%95%84%EB%AF%B8%EB%94%94%ED%8C%AC%ED%8B%B0(%ED%8E%B8%EB%A9%B4%EC%9F%88%EA%B0%80%EB%93%9C)&img=http://shopping.phinf.naver.net/main_8266391/8266391227.jpg HTTP/1.1\" 200 99\n",
      "10.0.2.2 - - [24/Aug/2016 10:47:38] \"GET /classify?name=[%EC%98%A4%EA%B0%80%EB%8B%89%EB%A7%98]%EB%A1%9C%EA%B7%B8%EB%82%A8%EC%95%84%EA%B8%B4%EC%86%8C%EC%95%84%EB%8F%99%EC%9E%A0%EC%98%B7[MZF1SW01]%20(%EA%B8%B0%EC%A1%B4%EA%B0%80:65000%EC%9B%90)&img=http://shopping.phinf.naver.net/main_7933989/7933989221.1.jpg HTTP/1.1\" 200 124\n",
      "10.0.2.2 - - [24/Aug/2016 10:47:38] \"GET /classify?name=%EC%A7%80%EB%B0%A9%EC%8B%9C%20%20%EB%82%A8%EC%84%B1%20%EC%BD%94%ED%8A%B8%20/%2013F0211047%20001(%EB%B8%94%EB%9E%99)%20/%20%EB%A1%B1%EC%9E%90%EC%BC%93&img=http://shopping.phinf.naver.net/main_8287050/8287050563.jpg HTTP/1.1\" 200 74\n",
      "10.0.2.2 - - [24/Aug/2016 10:47:38] \"GET /classify?name=[%EC%96%B4%EC%8A%A4%EC%95%A4%EB%8E%80]%EC%B9%BC%EB%9D%BC%EB%B8%94%EB%9F%AD%EC%A0%80%EC%A7%802%EB%B2%84%ED%8A%BC%EC%9E%90%EC%BC%93(TAJY201)&img=http://shopping.phinf.naver.net/main_8233554/8233554928.jpg HTTP/1.1\" 200 74\n",
      "10.0.2.2 - - [24/Aug/2016 10:47:38] \"GET /classify?name=[%ED%98%84%EB%8C%80%EC%B9%B4%EB%93%9C7%%ED%95%A0%EC%9D%B8~28%EC%9D%BC%EA%B9%8C%EC%A7%80][%EC%BB%A4%EC%8A%A4%ED%85%80%EB%A9%9C%EB%A1%9C%EC%9A%B0][voyage]%20corduroy%20patch%20jumper%20-%20CWUA30111OR&img=http://shopping.phinf.naver.net/main_8082765/8082765754.jpg HTTP/1.1\" 200 74\n",
      "10.0.2.2 - - [24/Aug/2016 10:47:38] \"GET /classify?name=[5%%20%EC%A6%89%EC%8B%9C%ED%95%A0%EC%9D%B8][%EB%A1%AF%EB%8D%B0%EB%B0%B1%ED%99%94%EC%A0%90]%EC%BB%A4%EC%8A%A4%ED%85%80%EB%A9%9C%EB%A1%9C%EC%9A%B0%2014%EB%85%84%20F/W%EC%8B%A0%EC%83%81%20%EB%84%98%EB%B2%84%20%EB%8B%A4%EC%9A%B4%20%EC%A0%90%ED%8D%BC(CWUW46551)&img=http://shopping.phinf.naver.net/main_8167033/8167033019.jpg HTTP/1.1\" 200 74\n",
      "10.0.2.2 - - [24/Aug/2016 10:47:38] \"GET /classify?name=[EVISU]%20%EC%97%AC%EC%84%B1_%EB%9D%BC%EC%9D%B4%ED%8A%B8%20%EC%9D%B8%EB%94%94%EA%B3%A0%EC%8A%AC%EB%A6%BC%20%ED%85%8D%EC%8A%A4%ED%8A%B8%ED%94%84%EB%A6%B0%ED%8A%B8%20%EB%8D%B0%EB%8B%98%ED%8C%AC%EC%B8%A0_EN8JP060_BL_P021219638&img=http://shopping.phinf.naver.net/main_8317496/8317496263.jpg HTTP/1.1\" 200 86\n",
      "10.0.2.2 - - [24/Aug/2016 10:47:38] \"GET /classify?name=[JEEP]%EB%82%A8%EB%85%80%EA%B3%B5%EC%9A%A9%EC%A0%84%ED%8C%90%ED%94%84%EB%A6%B0%ED%8A%B8%EC%8A%AC%EB%A6%BC%EB%B0%B0%EA%B8%B0%ED%8C%AC%EC%B8%A0_JG1DPF702&img=http://shopping.phinf.naver.net/main_8305062/8305062386.jpg HTTP/1.1\" 200 86\n",
      "10.0.2.2 - - [24/Aug/2016 10:47:38] \"GET /classify?name=[%EA%B5%AD%EB%AF%BC%EC%B9%B4%EB%93%9C5%][%EC%A0%9C%EC%9D%B4%EC%A0%9C%EC%9D%B4%EC%98%B4%EB%AF%80(JJHOMME)]%ED%81%B4%EB%9E%98%EC%8B%9D%20%EB%84%A4%EC%9D%B4%EB%B9%84%20%EB%B3%B4%EC%B9%B4%EC%8B%9C%203%EC%A2%85%20%EC%A0%95%EC%9E%A5%EC%88%98%ED%8A%B8%20JJ_15BZ_02SET&img=http://shopping.phinf.naver.net/main_8274687/8274687421.jpg HTTP/1.1\" 200 74\n",
      "10.0.2.2 - - [24/Aug/2016 10:47:38] \"GET /classify?name=[%EB%AF%B8%EB%84%B4%EC%98%B4%EB%AF%80]%20%7B%EC%A0%95%EC%9E%A5%EB%B0%94%EC%A7%80%7D%EC%97%98%EB%AA%A8%EC%B2%B4%ED%81%AC%ED%8F%AC%EB%A9%80%EC%A0%95%EC%9E%A5%EB%B0%94%EC%A7%80%7BP1138_PRSSS%7D&img=http://shopping.phinf.naver.net/main_8283873/8283873788.jpg HTTP/1.1\" 200 74\n",
      "10.0.2.2 - - [24/Aug/2016 10:47:38] \"GET /classify?name=[%EC%98%A4%EA%B0%80%EA%B2%8C/TOKIO]%EC%9B%A8%EC%9D%B4%EB%B8%8C%EC%9A%B8%EB%8B%88%ED%8A%B8%EB%B2%A0%EC%8A%A4%ED%8A%B8(%EA%B7%B8%EB%A0%88%EC%9D%B4)&img=http://shopping.phinf.naver.net/main_8203833/8203833028.jpg HTTP/1.1\" 200 74\n",
      "10.0.2.2 - - [24/Aug/2016 10:47:38] \"GET /classify?name=[5%%20%EC%A6%89%EC%8B%9C%ED%95%A0%EC%9D%B8][%EC%98%A4%EA%B0%80%EA%B2%8C]%20%20%EC%98%A4%EA%B0%80%EA%B2%8C/TOKIO%20%EC%9B%A8%EC%9D%B4%EB%B8%8C%EC%9A%B8%EB%8B%88%ED%8A%B8%EB%B2%A0%EC%8A%A4%ED%8A%B8%EA%B7%B8%EB%A0%88%EC%9D%B4%20%20P020278325&img=http://shopping.phinf.naver.net/main_8203508/8203508498.jpg HTTP/1.1\" 200 74\n",
      "10.0.2.2 - - [24/Aug/2016 10:47:38] \"GET /classify?name=[KB%EA%B5%AD%EB%AF%BC%EC%B9%B4%EB%93%9C%205%%ED%95%A0%EC%9D%B8,%203/14][%EB%94%94%EC%8A%A4%ED%80%98%EC%96%B4%EB%93%9C2]%20(QR%EC%BD%94%EB%93%9C%EC%9D%B8%EC%A6%9D)14FW%2074LA0651%20S30144%20470%20/%20%EB%94%94%ED%80%98%20%EC%98%A4%EB%A0%8C%EC%A7%80%EC%8A%A4%ED%8C%9F%20%ED%95%B8%EB%93%9C%EC%BB%A4%ED%94%84%ED%8C%A8%EC%B9%98%20%EB%94%94%EC%8A%A4%EC%A7%84%20%EC%8A%AC%EB%A6%BC%ED%95%8F%20/%20%EC%A4%91%EC%B2%AD%20/%20%EB%82%A8%EC%84%B1%20%EC%B2%AD%EB%B0%94%EC%A7%80&img=http://shopping.phinf.naver.net/main_8185307/8185307062.1.jpg HTTP/1.1\" 200 80\n",
      "10.0.2.2 - - [24/Aug/2016 10:47:38] \"GET /classify?name=[%EB%94%94%EC%8A%A4%ED%80%98%EC%96%B4%EB%93%9C2]%20%ED%99%94%EC%9D%B4%ED%8A%B8%20%ED%8E%98%EC%9D%B8%ED%8C%85%20%EB%94%94%EC%8A%A4%2015SS%20%EC%8A%AC%EB%A6%BC%20/%20LA0885%20S30144%20470%20/%20%EB%82%A8%EC%84%B1%20%EC%A7%84&img=http://shopping.phinf.naver.net/main_8201180/8201180892.jpg HTTP/1.1\" 200 80\n",
      "10.0.2.2 - - [24/Aug/2016 10:47:38] \"GET /classify?name=[%ED%95%98%ED%94%84%ED%81%B4%EB%9F%BD/BOYLONDON.]B42TS41U89&img=http://shopping.phinf.naver.net/main_7845252/7845252140.jpg HTTP/1.1\" 200 74\n",
      "10.0.2.2 - - [24/Aug/2016 10:47:38] \"GET /classify?name=[SEOBEAN]%20[%EC%84%9C%EB%B9%88]%EB%8C%84%EB%94%94%20%EC%8A%AC%EB%A6%BC%ED%95%8F%20%ED%95%98%ED%94%84%ED%8C%AC%EC%B8%A0%20SBHNHP-135052_P013862565&img=http://shopping.phinf.naver.net/main_7535029/7535029013.1.jpg HTTP/1.1\" 200 74\n",
      "10.0.2.2 - - [24/Aug/2016 10:47:38] \"GET /classify?name=[%EC%97%A0%EB%B9%84%EC%98%A4]%EC%97%A0%EB%B9%84%EC%98%A4%20F/W%20%EC%86%8C%EB%A7%A4%20%EB%B0%B0%EC%83%89%20%EC%95%8C%ED%8C%8C%EC%B9%B4%20%ED%98%BC%EB%B0%A9%20%EB%84%A4%EC%9D%B4%EB%B9%84%20%ED%94%BC%EC%BD%94%ED%8A%B8(MK4X30002R)&img=http://shopping.phinf.naver.net/main_8191868/8191868491.1.jpg HTTP/1.1\" 200 74\n",
      "10.0.2.2 - - [24/Aug/2016 10:47:38] \"GET /classify?name=[MVIO]%20%EC%86%8C%EB%A7%A4%20%EB%B0%B0%EC%83%89%20%EC%95%8C%ED%8C%8C%EC%B9%B4%20%ED%98%BC%EB%B0%A9%20%EB%84%A4%EC%9D%B4%EB%B9%84%20%ED%94%BC%EC%BD%94%ED%8A%B8%20(MK4X30002R)&img=http://shopping.phinf.naver.net/main_8054630/8054630582.jpg HTTP/1.1\" 200 74\n",
      "10.0.2.2 - - [24/Aug/2016 10:47:38] \"GET /classify?name=[fashionplus][HEAD]%20%EC%86%8C%EC%85%9C%20%ED%9B%84%EB%94%94%EB%93%9C%20%EC%97%AC%EC%84%B1%20%ED%8A%B8%EB%A0%88%EC%9D%B4%EB%8B%9D%20%ED%8C%AC%EC%B8%A0_JOHS53221MG&img=http://shopping.phinf.naver.net/main_8329421/8329421460.jpg HTTP/1.1\" 200 92\n",
      "10.0.2.2 - - [24/Aug/2016 10:47:38] \"GET /classify?name=[BC%EC%B9%B4%EB%93%9C5%%ED%95%A0%EC%9D%B8][HEAD][HEAD]%20H2X%203LAYER%20Trail%20%ED%8A%B8%EB%A0%88%EC%9D%B4%EB%8B%9D%20%ED%8C%AC%EC%B8%A0_JHHS57011GY[%ED%8C%A8%EC%85%98%ED%94%8C%EB%9F%AC%EC%8A%A4]&img=http://shopping.phinf.naver.net/main_8316587/8316587100.jpg HTTP/1.1\" 200 92\n",
      "10.0.2.2 - - [24/Aug/2016 10:47:38] \"GET /classify?name=[MARCELO%20BURLONE_r]%20[%EB%A7%88%EB%A5%B4%EC%85%80%EB%A1%9C%EB%B6%88%EB%A1%A0]14SS%20BM4001%2002%2010%20/%20%EC%95%8C%EB%9D%BC%EC%8A%A4%20%ED%8D%BC%ED%94%8C%EC%9C%99%20/%20%EB%B8%94%EB%9E%99%20/%20%EB%82%A8%EC%84%B1%20%ED%9B%84%EB%93%9C%ED%8B%B0_P019375800&img=http://shopping.phinf.naver.net/main_8108883/8108883836.1.jpg HTTP/1.1\" 200 80\n",
      "10.0.2.2 - - [24/Aug/2016 10:47:39] \"GET /classify?name=[%ED%95%98%ED%94%84%ED%81%B4%EB%9F%BD/HARRISON]%EB%9F%AC%EC%89%AC%EB%82%98%EC%97%BC%20MTM%20MB1591&img=http://shopping.phinf.naver.net/main_8273756/8273756026.jpg HTTP/1.1\" 200 80\n",
      "10.0.2.2 - - [24/Aug/2016 10:47:39] \"GET /classify?name=[5%%20%EC%A6%89%EC%8B%9C%ED%95%A0%EC%9D%B8]Sexy%20Backless%20Sleeveless%20Lace%20Hip%20Mini%20Dress%20353&img=http://shopping.phinf.naver.net/main_8309541/8309541669.jpg HTTP/1.1\" 200 80\n",
      "10.0.2.2 - - [24/Aug/2016 10:47:39] \"GET /classify?name=[5%%20%EC%A6%89%EC%8B%9C%ED%95%A0%EC%9D%B8]Rockabilly%20Deep%20Puff%20Bodycon%20Party%20Pencil%20Dress&img=http://shopping.phinf.naver.net/main_8310876/8310876135.jpg HTTP/1.1\" 200 80\n",
      "10.0.2.2 - - [24/Aug/2016 10:47:39] \"GET /classify?name=[%EB%B8%94%EB%A3%A8%EB%A8%B8%ED%95%80]%20%ED%94%8C%EB%A1%9C%EB%9E%84%20%EC%9B%90%ED%94%BC%EC%8A%A4%20BM14FOP606C&img=http://shopping.phinf.naver.net/main_8270968/8270968259.jpg HTTP/1.1\" 200 80\n",
      "10.0.2.2 - - [24/Aug/2016 10:47:39] \"GET /classify?name=[%EC%9E%AD%ED%82%A4%EB%93%9C%20%EC%A3%BC%EB%8B%88%EC%96%B4][%EB%B3%B4%EB%A6%AC%EB%B3%B4%EB%A6%AC/%EC%9E%AD%ED%82%A4%EB%93%9C%20%EC%A3%BC%EB%8B%88%EC%96%B4]%EB%8D%B8%ED%95%80%EC%A1%B0%EB%81%BC%EC%A0%95%EC%9E%A5-%EC%97%AC&img=http://shopping.phinf.naver.net/main_8134935/8134935099.1.jpg HTTP/1.1\" 200 99\n",
      "10.0.2.2 - - [24/Aug/2016 10:47:39] \"GET /classify?name=[%EB%B9%84%EB%B9%84%EC%95%88]%EB%A7%88%EB%A6%84%EB%AA%A8%EC%B2%B4%ED%81%AC%EB%82%A8%EC%84%B1%ED%8A%B8%EB%A0%81%ED%81%AC%ED%8C%AC%ED%8B%B0(TP9346)&img=http://shopping.phinf.naver.net/main_8181527/8181527587.jpg HTTP/1.1\" 200 123\n",
      "10.0.2.2 - - [24/Aug/2016 10:47:39] \"GET /classify?name=[%ED%98%84%EB%8C%80%EB%B0%B1%ED%99%94%EC%A0%90%20VI%EA%B4%80]%20[%EB%B9%84%EB%B9%84%EC%95%88]%EB%A7%88%EB%A6%84%EB%AA%A8%EC%B2%B4%ED%81%AC%EB%82%A8%EC%84%B1%ED%8A%B8%EB%A0%81%ED%81%AC%ED%8C%AC%ED%8B%B0(TP9346)&img=http://shopping.phinf.naver.net/main_8008829/8008829527.jpg HTTP/1.1\" 200 123\n",
      "10.0.2.2 - - [24/Aug/2016 10:47:39] \"GET /classify?name=[BC%EC%B9%B4%EB%93%9C5%%ED%95%A0%EC%9D%B8][%EC%98%88%ED%99%94-%EC%A2%8B%EC%9D%80%EC%95%84%EC%9D%B4%EB%93%A4]%20%E5%90%8D%E5%93%81%20%EB%82%A8%EC%95%84%20%EC%95%84%EB%8F%99%ED%95%9C%EB%B3%B5%20%EC%98%86%EC%83%89%EB%8F%99%EC%82%B0%ED%98%B8_%2013106%20(%EB%B0%B0%EC%9E%90%20+%20%EC%A0%80%EA%B3%A0%EB%A6%AC%20+%20%EB%B0%94%EC%A7%80)&img=http://shopping.phinf.naver.net/main_7439535/7439535409.16.jpg HTTP/1.1\" 200 74\n",
      "10.0.2.2 - - [24/Aug/2016 10:47:39] \"GET /classify?name=[KB%EA%B5%AD%EB%AF%BC%EC%B9%B4%EB%93%9C%205%%ED%95%A0%EC%9D%B8,%203/14]%EB%B2%A0%EB%84%A4%ED%86%B5%ED%82%A4%EC%A6%88%EB%B8%94%EB%A7%81%ED%8C%9D%20%EC%8A%88%EA%B0%80%EC%8A%A4%ED%83%80%EC%8A%AC%EB%A6%BD%EC%98%A8-%EB%B0%94%EC%9D%B4%EC%98%AC%EB%A0%9B(QCSH05511-VO)&img=http://shopping.phinf.naver.net/main_8319992/8319992543.jpg HTTP/1.1\" 200 99\n"
     ]
    }
   ],
   "source": [
    "from bottle import route, run, template,request,get, post\n",
    "\n",
    "import  time\n",
    "from threading import  Condition\n",
    "_CONDITION = Condition()\n",
    "@route('/classify')\n",
    "def classify():\n",
    "    img = request.GET.img\n",
    "    name = request.GET.name\n",
    "    \n",
    "    pred = clf.predict(vectorizer.transform([parsing_str(name)]))[0]\n",
    "    return {'cate':cate_id_name_dict[pred]}\n",
    "\n",
    "\n",
    "run(host='0.0.0.0', port=8887)\n"
   ]
  },
  {
   "cell_type": "markdown",
   "metadata": {
    "collapsed": true
   },
   "source": [
    " * 추후 여기 docker 에서 뭔가 python package 설치할게 있으면 \n",
    " * /opt/conda/bin/pip2 install bottle 이런식으로 설치 가능"
   ]
  },
  {
   "cell_type": "code",
   "execution_count": null,
   "metadata": {
    "collapsed": true
   },
   "outputs": [],
   "source": []
  },
  {
   "cell_type": "code",
   "execution_count": null,
   "metadata": {
    "collapsed": true
   },
   "outputs": [],
   "source": []
  }
 ],
 "metadata": {
  "kernelspec": {
   "display_name": "Python 3",
   "language": "python",
   "name": "python3"
  },
  "language_info": {
   "codemirror_mode": {
    "name": "ipython",
    "version": 3
   },
   "file_extension": ".py",
   "mimetype": "text/x-python",
   "name": "python",
   "nbconvert_exporter": "python",
   "pygments_lexer": "ipython3",
   "version": "3.5.1"
  },
  "widgets": {
   "state": {},
   "version": "1.1.2"
  }
 },
 "nbformat": 4,
 "nbformat_minor": 0
}
